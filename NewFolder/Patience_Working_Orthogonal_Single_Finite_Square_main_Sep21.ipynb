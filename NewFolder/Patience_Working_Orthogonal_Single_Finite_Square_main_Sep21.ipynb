{
 "cells": [
  {
   "cell_type": "code",
   "metadata": {
    "colab": {
     "base_uri": "https://localhost:8080/"
    },
    "executionInfo": {
     "elapsed": 1063,
     "status": "ok",
     "timestamp": 1640283828800,
     "user": {
      "displayName": "Henry Jin",
      "photoUrl": "https://lh3.googleusercontent.com/a-/AOh14GhYqxAUtwnIYoYilaHJs_IlNi06LeR23MknfmTs=s64",
      "userId": "11060528574976705743"
     },
     "user_tz": 480
    },
    "id": "w35C2kO1ZJ_V",
    "outputId": "83a09684-a0f9-4e0d-b8bf-2f2c11f59205",
    "ExecuteTime": {
     "end_time": "2024-10-23T12:01:29.609218Z",
     "start_time": "2024-10-23T12:01:29.295673Z"
    }
   },
   "source": [
    "import pickle\n",
    "from google.colab import drive\n",
    "drive.mount('/content/gdrive')\n",
    "imgdir = '/content/gdrive/My Drive/HydrogenAtomPlots/'"
   ],
   "outputs": [
    {
     "ename": "ModuleNotFoundError",
     "evalue": "No module named 'google'",
     "output_type": "error",
     "traceback": [
      "\u001B[0;31m---------------------------------------------------------------------------\u001B[0m",
      "\u001B[0;31mModuleNotFoundError\u001B[0m                       Traceback (most recent call last)",
      "Cell \u001B[0;32mIn[1], line 2\u001B[0m\n\u001B[1;32m      1\u001B[0m \u001B[38;5;28;01mimport\u001B[39;00m \u001B[38;5;21;01mpickle\u001B[39;00m\n\u001B[0;32m----> 2\u001B[0m \u001B[38;5;28;01mfrom\u001B[39;00m \u001B[38;5;21;01mgoogle\u001B[39;00m\u001B[38;5;21;01m.\u001B[39;00m\u001B[38;5;21;01mcolab\u001B[39;00m \u001B[38;5;28;01mimport\u001B[39;00m drive\n\u001B[1;32m      3\u001B[0m drive\u001B[38;5;241m.\u001B[39mmount(\u001B[38;5;124m'\u001B[39m\u001B[38;5;124m/content/gdrive\u001B[39m\u001B[38;5;124m'\u001B[39m)\n\u001B[1;32m      4\u001B[0m imgdir \u001B[38;5;241m=\u001B[39m \u001B[38;5;124m'\u001B[39m\u001B[38;5;124m/content/gdrive/My Drive/HydrogenAtomPlots/\u001B[39m\u001B[38;5;124m'\u001B[39m\n",
      "\u001B[0;31mModuleNotFoundError\u001B[0m: No module named 'google'"
     ]
    }
   ],
   "execution_count": 1
  },
  {
   "cell_type": "code",
   "metadata": {
    "id": "2F02ZJFGw878",
    "ExecuteTime": {
     "end_time": "2024-10-23T15:27:53.825129Z",
     "start_time": "2024-10-23T15:27:53.807081Z"
    }
   },
   "source": [
    "# Insert code here.\n",
    "import numpy as np\n",
    "import torch\n",
    "import torch.optim as optim\n",
    "from torch.autograd import grad\n",
    "from torch.autograd import Variable\n",
    "import matplotlib.pyplot as plt\n",
    "import time\n",
    "import copy\n",
    "from scipy.integrate import odeint\n",
    "dtype=torch.float\n",
    "import torch.nn as nn\n",
    "import math\n",
    "\n",
    "%matplotlib inline\n"
   ],
   "outputs": [],
   "execution_count": 28
  },
  {
   "cell_type": "code",
   "metadata": {
    "colab": {
     "base_uri": "https://localhost:8080/"
    },
    "executionInfo": {
     "elapsed": 7,
     "status": "ok",
     "timestamp": 1640283829898,
     "user": {
      "displayName": "Henry Jin",
      "photoUrl": "https://lh3.googleusercontent.com/a-/AOh14GhYqxAUtwnIYoYilaHJs_IlNi06LeR23MknfmTs=s64",
      "userId": "11060528574976705743"
     },
     "user_tz": 480
    },
    "id": "4lr7ZwZS1_f8",
    "outputId": "519a98cd-6dc8-46e3-9443-4cca9709a942",
    "ExecuteTime": {
     "end_time": "2024-10-23T15:27:54.633747Z",
     "start_time": "2024-10-23T15:27:54.631374Z"
    }
   },
   "source": "",
   "outputs": [],
   "execution_count": 28
  },
  {
   "cell_type": "code",
   "metadata": {
    "id": "5CysoHagw__l",
    "ExecuteTime": {
     "end_time": "2024-10-23T15:27:54.978286Z",
     "start_time": "2024-10-23T15:27:54.974607Z"
    }
   },
   "source": [
    "# for the plots\n",
    "plt.rc('xtick', labelsize=16) \n",
    "plt.rcParams.update({'font.size': 16})\n",
    "\n",
    "# Define the sin() activation function\n",
    "class mySin(torch.nn.Module):\n",
    "    @staticmethod\n",
    "    def forward(input):\n",
    "        return torch.sin(input)"
   ],
   "outputs": [],
   "execution_count": 29
  },
  {
   "cell_type": "code",
   "metadata": {
    "id": "eB0WTDi1xAGR",
    "ExecuteTime": {
     "end_time": "2024-10-23T15:27:55.490627Z",
     "start_time": "2024-10-23T15:27:55.485429Z"
    }
   },
   "source": [
    "# 利用pytorch自动计算f对x的导数，x为输入张量，f为输出张量，返回df/dx\n",
    "# Define some more general functions\n",
    "def dfx(x,f):\n",
    "    # Calculate the derivative with auto-differention\n",
    "    gopts = torch.ones(x.shape, dtype=dtype)\n",
    "    return grad([f], [x], grad_outputs=gopts, create_graph=True)[0]\n",
    "\n",
    "# 对均匀网格上的一维节点grid进行随机扰动，grid存储的是每个节点的坐标，返回扰动后的节点分布坐标，\n",
    "# t0是0点，tf是右侧坐标最大点, x in [t0,tf], t0 approx 1e-3\n",
    "def perturbPoints(grid,t0,tf,sig=0.5):\n",
    "    # stochastic perturbation of the evaluation points\n",
    "    # force t[0]=t0  & force points to be in the t-interval\n",
    "    delta_t = grid[1] - grid[0]  \n",
    "    noise = delta_t * torch.randn_like(grid)*sig\n",
    "    t = grid + noise\n",
    "    t.data[2] = torch.ones(1,1)*(-1)\n",
    "    t.data[t<t0]=t0 - t.data[t<t0]\n",
    "    t.data[t>tf]=2*tf - t.data[t>tf]\n",
    "    t.data[0] = torch.ones(1,1)*t0\n",
    "\n",
    "    t.data[-1] = torch.ones(1,1)*tf\n",
    "    t.requires_grad = False\n",
    "    return t"
   ],
   "outputs": [],
   "execution_count": 30
  },
  {
   "cell_type": "code",
   "metadata": {
    "id": "DDhb7bZixAI5",
    "ExecuteTime": {
     "end_time": "2024-10-23T15:27:55.956333Z",
     "start_time": "2024-10-23T15:27:55.951236Z"
    }
   },
   "source": [
    "# visulization the wavefunction represented by nn, t is the x-parameters\n",
    "def parametricSolutions(t, nn, t0, x1):\n",
    "    N1,N2 = nn(t)\n",
    "    dt =t-t0\n",
    "    f = (1-torch.exp(-dt))*(1-torch.exp(dt-12))\n",
    "    psi_hat  = x1  + f*N1\n",
    "    return psi_hat\n",
    "\n",
    "# t is the set of sample points, f is the residual of the Eigen equation, L is the L_DE, H_psi is the Hamiltonian\n",
    "def hamEqs_Loss(t,psi, E,V):\n",
    "    psi_dx = dfx(t,psi)\n",
    "    psi_ddx= dfx(t,psi_dx)\n",
    "    f = psi_ddx/2 + (E-V)*psi\n",
    "    L  = (f.pow(2)).mean(); \n",
    "    H_psi = -1*psi_ddx/2 + (V)*psi\n",
    "    return L, f, H_psi"
   ],
   "outputs": [],
   "execution_count": 31
  },
  {
   "cell_type": "code",
   "metadata": {
    "id": "6ckaBXzDsoCm",
    "ExecuteTime": {
     "end_time": "2024-10-23T15:27:56.686676Z",
     "start_time": "2024-10-23T15:27:56.679128Z"
    }
   },
   "source": [
    "class qNN1_notskip(torch.nn.Module):\n",
    "    def __init__(self, D_hid=10):\n",
    "        super(qNN1_notskip,self).__init__()\n",
    "\n",
    "        # Define the Activation\n",
    "        #  self.actF = torch.nn.Sigmoid()   \n",
    "        self.sym = True\n",
    "        self.actF = mySin()\n",
    "        \n",
    "        self.Ein    = torch.nn.Linear(1,1)\n",
    "        self.Lin_1  = torch.nn.Linear(2, D_hid)\n",
    "        self.Lin_2  = torch.nn.Linear(D_hid, D_hid)\n",
    "        self.out    = torch.nn.Linear(D_hid, 1)\n",
    "\n",
    "    def forward(self,t):\n",
    "        In1 = self.Ein(torch.ones_like(t))\n",
    "\n",
    "        L1 = self.Lin_1(torch.cat((t,In1),1))\n",
    "        L1p = self.Lin_1(torch.cat((-1*t,In1),1))\n",
    "\n",
    "        h1 = self.actF(L1)\n",
    "        h1p = self.actF(L1p)\n",
    "        \n",
    "        L2 = self.Lin_2(h1)\n",
    "        L2p = self.Lin_2(h1p)\n",
    "\n",
    "        h2 = self.actF(L2)\n",
    "        h2p = self.actF(L2p)\n",
    "        \n",
    "        if self.sym:\n",
    "          out = self.out(h2+h2p)\n",
    "        else:\n",
    "          out = self.out(h2-h2p)\n",
    "        return out, In1\n",
    "\n",
    "# 多次将In1输入到隐藏层中，保证In1的信息不会被丢失\n",
    "# Ein表示lambda，即特征值，t表示的是输入的坐标x\n",
    "class qNN1(torch.nn.Module):\n",
    "    def __init__(self, D_hid=10):\n",
    "        super(qNN1,self).__init__()\n",
    "\n",
    "        # Define the Activation\n",
    "        #  self.actF = torch.nn.Sigmoid()   \n",
    "        self.actF = mySin()\n",
    "        \n",
    "        # define layers\n",
    "        #self.Lin_1   = torch.nn.Linear(1, D_hid)\n",
    "        #self.E_out = torch.nn.Linear(D_hid, 1)\n",
    "        #self.Lin_2 = torch.nn.Linear(D_hid, D_hid)\n",
    "        #self.Ein = torch.nn.Linear(1,1)\n",
    "        #self.Lin_out = torch.nn.Linear(D_hid+1, 1)\n",
    "        self.sym = True\n",
    "        self.Ein    = torch.nn.Linear(1,1)\n",
    "        self.Lin_1  = torch.nn.Linear(2, D_hid)\n",
    "        self.Lin_2  = torch.nn.Linear(D_hid+1, D_hid)\n",
    "        self.out    = torch.nn.Linear(D_hid+1, 1)\n",
    "    \n",
    "    \n",
    "    ## 返回的是列表[N(x,lambda),lambda]\n",
    "    def forward(self,t):\n",
    "        In1 = self.Ein(torch.ones_like(t))\n",
    "\n",
    "        L1 = self.Lin_1(torch.cat((t,In1),1))\n",
    "        L1p = self.Lin_1(torch.cat((-1*t,In1),1))\n",
    "\n",
    "        h1 = self.actF(L1)\n",
    "        h1p = self.actF(L1p)\n",
    "        \n",
    "        L2 = self.Lin_2(torch.cat((h1,In1),1))\n",
    "        L2p = self.Lin_2(torch.cat((h1p,In1),1))\n",
    "\n",
    "        h2 = self.actF(L2)\n",
    "        h2p = self.actF(L2p)\n",
    "\n",
    "        #out = self.out(torch.cat((h2+h2p,In1),1))\n",
    "        #out = self.out(torch.cat((h2,In1),1))\n",
    "        \n",
    "        # 根据系统的宇称的奇偶性判断波函数的对称性\n",
    "        if self.sym:\n",
    "          out = self.out(torch.cat((h2+h2p,In1),1))\n",
    "        else:\n",
    "          out = self.out(torch.cat((h2-h2p,In1),1))\n",
    "\n",
    "        return out, In1"
   ],
   "outputs": [],
   "execution_count": 32
  },
  {
   "cell_type": "code",
   "metadata": {
    "id": "dOlmdiea3lJ9",
    "ExecuteTime": {
     "end_time": "2024-10-23T15:27:57.137254Z",
     "start_time": "2024-10-23T15:27:57.134382Z"
    }
   },
   "source": [
    "# 对称有限深势阱，heaviside是阶跃函数\n",
    "def potential(Xs):\n",
    "  # Gives the potential at each point\n",
    "  # Takes in tensor of x points, gives back tensor of V at each point\n",
    "\n",
    "\n",
    "    Xsnp = Xs.data.numpy()\n",
    "    Vnp = (np.heaviside(-1*Xsnp-1.7, 0) + np.heaviside(Xsnp-1.7, 0))*20\n",
    "\n",
    "    Vtorch = torch.from_numpy(Vnp)\n",
    "    return Vtorch\n",
    "\n"
   ],
   "outputs": [],
   "execution_count": 33
  },
  {
   "cell_type": "code",
   "metadata": {
    "colab": {
     "base_uri": "https://localhost:8080/",
     "height": 306
    },
    "executionInfo": {
     "elapsed": 198,
     "status": "ok",
     "timestamp": 1640283830297,
     "user": {
      "displayName": "Henry Jin",
      "photoUrl": "https://lh3.googleusercontent.com/a-/AOh14GhYqxAUtwnIYoYilaHJs_IlNi06LeR23MknfmTs=s64",
      "userId": "11060528574976705743"
     },
     "user_tz": 480
    },
    "id": "AC1Gb8TlSML2",
    "outputId": "e6dc3745-35bb-4d41-cf80-bc4d4fcb0b96",
    "ExecuteTime": {
     "end_time": "2024-10-23T15:27:57.647791Z",
     "start_time": "2024-10-23T15:27:57.543757Z"
    }
   },
   "source": [
    "# 画出势能\n",
    "plotxs = np.linspace(-6,6,100)\n",
    "L = 1\n",
    "plotys = potential(torch.tensor(plotxs))\n",
    "plt.plot(plotxs, plotys)\n",
    "plt.xlabel('x')\n",
    "plt.ylabel('V')"
   ],
   "outputs": [
    {
     "data": {
      "text/plain": [
       "Text(0, 0.5, 'V')"
      ]
     },
     "execution_count": 34,
     "metadata": {},
     "output_type": "execute_result"
    },
    {
     "data": {
      "text/plain": [
       "<Figure size 640x480 with 1 Axes>"
      ],
      "image/png": "[encoded data removed]"
     },
     "metadata": {},
     "output_type": "display_data"
    }
   ],
   "execution_count": 34
  },
  {
   "cell_type": "code",
   "metadata": {
    "id": "Bn9y4xjIJu-5",
    "ExecuteTime": {
     "end_time": "2024-10-23T15:27:58.176059Z",
     "start_time": "2024-10-23T15:27:58.173871Z"
    }
   },
   "source": [
    "# 全连接层的权重初始化\n",
    "def weights_init(m):\n",
    "  if isinstance(m, nn.Linear) and m.weight.shape[0] != 1:\n",
    "    torch.nn.init.xavier_uniform(m.weight.data)"
   ],
   "outputs": [],
   "execution_count": 35
  },
  {
   "cell_type": "code",
   "metadata": {
    "id": "EmEVkm8gst-H",
    "ExecuteTime": {
     "end_time": "2024-10-23T15:27:59.819102Z",
     "start_time": "2024-10-23T15:27:59.800184Z"
    }
   },
   "source": [
    "\n",
    "\n",
    "\n",
    "# Train the NN\n",
    "# x in [t0,tf]，neurons为隐藏层的神经元的数量，epochs为学习次数，n_train为在采样区间内采样的数量，lr为学习率\n",
    "def run_Scan_finitewell(t0, tf, x1, neurons, epochs, n_train,lr, minibatch_number = 1):\n",
    "    par2 = 0\n",
    "    fc0 = qNN1(neurons)\n",
    "    fc1=0; \n",
    "    betas = [0.999, 0.9999]\n",
    "    optimizer = optim.Adam(fc0.parameters(), lr=lr, betas=betas)\n",
    "    # 用来记录Loss\n",
    "    Loss_history = [];     Llim =  1e+20\n",
    "    # 记录每次学习E_n的变化，即特征值lambda的变化\n",
    "    En_loss_history = []\n",
    "    \n",
    "    boundary_loss_history = []\n",
    "    nontriv_loss_history = []\n",
    "    # 用来记录L_DE\n",
    "    SE_loss_history = []\n",
    "    Ennontriv_loss_history = []\n",
    "    criteria_loss_history = []\n",
    "    \n",
    "    \n",
    "    # 感觉没啥用\n",
    "    En_history = []\n",
    "    \n",
    "    prob_loss = []\n",
    "    EWall_history = []\n",
    "    orth_losses = []\n",
    "\n",
    " \n",
    "    \n",
    "    di = (None, 1e+20)\n",
    "    \n",
    "    # dic用来记录每次训练的结果，键为能量E，dic[E][0]为神经网络,[1]为标准差criteria_loss，[2]为元组(t_mb, 特征方程残差, 哈密顿量, 波函数)\n",
    "    dic = {}\n",
    "    for i in range(50):\n",
    "      dic[i] = di\n",
    "        \n",
    "    orth_counter = 0\n",
    "    internal_SE_loss = []\n",
    "\n",
    "    # 在区间内生成采样点列表，形状为n*1的向量\n",
    "    grid = torch.linspace(t0, tf, n_train).reshape(-1,1)\n",
    "    \n",
    "    ## TRAINING ITERATION    \n",
    "    TeP0 = time.time()\n",
    "    \n",
    "    \n",
    "    walle = -1.5\n",
    " \n",
    "    for tt in range(epochs): \n",
    "        #adjusting learning rate at epoch 3e4\n",
    "        #if tt == 3e4:\n",
    "        #    optimizer = optim.Adam(fc0.parameters(), lr = 1e-2, betas = betas)\n",
    "        # Perturbing the evaluation points & forcing t[0]=t0\n",
    "        t=perturbPoints(grid,t0,tf,sig=.03*tf)\n",
    "            \n",
    "        # 分批次训练\n",
    "        # BATCHING\n",
    "        batch_size = int(n_train/minibatch_number)\n",
    "        batch_start, batch_end = 0, batch_size\n",
    "\n",
    "        idx = np.random.permutation(n_train)\n",
    "        t_b = t[idx]\n",
    "        t_b.requires_grad = True\n",
    "        t_f=t[-1]\n",
    "        t_f=t_f.reshape(-1,1)\n",
    "        t_f.requires_grad = True\n",
    "        loss=0.0\n",
    "\n",
    "\n",
    "        for nbatch in range(minibatch_number): \n",
    "            # batch time set\n",
    "            t_mb = t_b[batch_start:batch_end].cpu()\n",
    "            #t_mb表示batch之后的小区间\n",
    "\n",
    "            #  Network solutions ,nn为t_mb区间内各采样点的N(x,lambda)，En为各采样点的特征值lambda，即能量\n",
    "            nn, En = fc0(t_mb)\n",
    "            En = torch.abs(En) #  + np.random.normal(0,1,1)[0]*torch.ones_like(En)/30\n",
    "\n",
    "            En_history.append(En[0].data.tolist()[0])\n",
    "\n",
    "            psi  = parametricSolutions(t_mb, fc0, t0, x1).cpu()\n",
    "            Pot = potential(t_mb.cpu())\n",
    "            \n",
    "            #Ltot是L_DE，f是特征方程的残差，H_psi为哈密顿量\n",
    "            Ltot, f_ret, H_psi = hamEqs_Loss(t_mb, psi, En.cpu(), Pot.cpu())\n",
    "            #Ltot /= En.detach()[0].data.tolist()[0]**2\n",
    "            SE_loss_history.append(Ltot) #\n",
    "            internal_SE_loss.append(Ltot.cpu().detach().numpy())\n",
    "            criteria_loss = Ltot\n",
    "\n",
    "            # +=的部分应该是L_norm\n",
    "            Ltot += ((n_train/(tf-t0))*1.0-torch.sqrt(torch.dot(psi[:,0],psi[:,0]))).pow(2)\n",
    "\n",
    "            \n",
    "            # rm应该是用来评判论文中的“patience”条件\n",
    "            window = 1000\n",
    "            if len(internal_SE_loss) >= window+1:\n",
    "              rm = np.mean(np.array(internal_SE_loss[-window:])-np.array(internal_SE_loss[-window-1:-1]))\n",
    "            else:\n",
    "              rm = np.mean(np.array(internal_SE_loss[1:])-np.array(internal_SE_loss[:-1]))\n",
    "            \n",
    "            if tt % 300 == 0:\n",
    "              print('Epoch', tt)\n",
    "              print('E', En_history[-1])\n",
    "              print('rm', rm)\n",
    "              print('oc', orth_counter)\n",
    "                \n",
    "            # 判断阈值\n",
    "            exp_thresh = -14\n",
    "            if tt == 1.5e4:\n",
    "              fc0.apply(weights_init)\n",
    "              orth_counter += 1\n",
    "              print('Epoch', tt)\n",
    "              print('E', En_history[-1])\n",
    "              print('rm', rm)\n",
    "              print('oc', orth_counter)\n",
    "            elif rm < np.exp(exp_thresh) and rm > 0 and orth_counter == 1:\n",
    "              fc0.apply(weights_init)\n",
    "              orth_counter += 1\n",
    "              print('Epoch', tt)\n",
    "              print('E', En_history[-1])\n",
    "              print('rm', rm)\n",
    "              print('oc', orth_counter)\n",
    "            elif rm < np.exp(exp_thresh) and rm > 0 and orth_counter == 2:\n",
    "              fc0.sym = False\n",
    "              orth_counter += 1\n",
    "              print('Epoch', tt)\n",
    "              print('E', En_history[-1])\n",
    "              print('rm', rm)\n",
    "              print('oc', orth_counter)\n",
    "            elif rm < np.exp(exp_thresh) and rm > 0 and orth_counter == 3:\n",
    "              orth_counter += 1\n",
    "              print('Epoch', tt)\n",
    "              print('E', En_history[-1])\n",
    "              print('rm', rm)\n",
    "              print('oc', orth_counter)\n",
    "\n",
    "            if orth_counter == 1:\n",
    "              par2 = parametricSolutions(t_mb, dic[0][0], t0, x1)\n",
    "              ortho_loss = torch.sqrt(torch.dot(par2[:,0], psi[:,0]).pow(2))/25\n",
    "              orth_losses.append(ortho_loss)\n",
    "              Ltot += ortho_loss  \n",
    "            elif orth_counter == 2 or orth_counter == 3:\n",
    "                \n",
    "              par2 = parametricSolutions(t_mb, dic[0][0], t0, x1)\n",
    "              par3 = parametricSolutions(t_mb, dic[3][0], t0, x1)\n",
    "              ortho_loss = torch.sqrt(torch.dot(par2[:,0]+par3[:,0], psi[:,0]).pow(2))/25 # get rid of sqrt\n",
    "              orth_losses.append(ortho_loss)\n",
    "              Ltot += ortho_loss\n",
    "            elif orth_counter == 4:\n",
    "              #if tt == 8e4:\n",
    "              #  fc0.sym = True\n",
    "\n",
    "              par2 = parametricSolutions(t_mb, dic[0][0], t0, x1)\n",
    "              par3 = parametricSolutions(t_mb, dic[3][0], t0, x1)\n",
    "              par4 = parametricSolutions(t_mb, dic[1][0], t0, x1)\n",
    "              ortho_loss = torch.sqrt(torch.dot(par2[:,0]+par3[:,0]+par4[:,0], psi[:,0]).pow(2))/25 # get rid of sqrt\n",
    "              orth_losses.append(ortho_loss)\n",
    "              Ltot += ortho_loss\n",
    "              \n",
    "\n",
    "            #if (tt > 1e4 and tt < 3e4):\n",
    "            #  torth = t.cuda()\n",
    "            #  psi2 = parametricSolutions(torth, fc0, t0, x1).cuda()\n",
    "            #  par2 = parametricSolutions(torth, dic[3][0], t0, x1)\n",
    "            #  ortho_loss = torch.sqrt(torch.dot(par2[400:800,0], psi2[400:800,0]).pow(2))/100\n",
    "            #  orth_losses.append(ortho_loss)\n",
    "            #  Ltot += ortho_loss\n",
    "            #elif (tt >= 3e4):\n",
    "            #  par2 = parametricSolutions(t_mb, dic[1][0], t0, x1)\n",
    "            #  par3 = parametricSolutions(t_mb, dic[3][0], t0, x1)\n",
    "            #  ortho_loss = torch.sqrt(torch.dot(par3[:,0], psi[:,0]).pow(2))/10 + torch.sqrt(torch.dot(par2[:,0], psi[:,0]).pow(2))/10\n",
    "            #  orth_losses.append(ortho_loss)\n",
    "            #  Ltot += ortho_loss              \n",
    "\n",
    "            En_loss_history.append(torch.exp(-1*En+walle).mean()) #\n",
    "            EWall_history.append(walle)\n",
    "            \n",
    "            #nontriv_loss_history.append(1/((psi.pow(2)).mean()+1e-6)) #\n",
    "            nontriv_loss_history.append( ((n_train/(tf-t0))*1.0-torch.sqrt(torch.dot(psi[:,0],psi[:,0]))).pow(2))\n",
    "            #Ennontriv_loss_history.append(1/(En.pow(2).mean()+1e-6)) #\n",
    "            Ennontriv_loss_history.append(1/En[0][0].pow(2))\n",
    "# OPTIMIZER\n",
    "            Ltot.backward(retain_graph=False); #True\n",
    "            optimizer.step(); loss += Ltot.cpu().data.numpy()\n",
    "            optimizer.zero_grad()\n",
    "\n",
    "            batch_start +=batch_size\n",
    "            batch_end +=batch_size\n",
    "\n",
    "# keep the loss function history\n",
    "        Loss_history.append(loss)       \n",
    "\n",
    "#Keep the best model (lowest loss) by using a deep copy\n",
    "        if  criteria_loss < Llim:\n",
    "            fc1 =  copy.deepcopy(fc0)\n",
    "            Llim=criteria_loss\n",
    "\n",
    "        E_bin = abs(En[0].data.tolist()[0])//1  \n",
    "        if criteria_loss < dic[E_bin][1]:\n",
    "          dic[E_bin] = (copy.deepcopy(fc0), criteria_loss, (t_mb, f_ret, H_psi, psi))\n",
    "\n",
    "        \n",
    "\n",
    "    TePf = time.time()\n",
    "    runTime = TePf - TeP0  \n",
    "    loss_histories = (Loss_history, boundary_loss_history, nontriv_loss_history, SE_loss_history, Ennontriv_loss_history, En_loss_history, criteria_loss_history, fc0, En_history, EWall_history, dic, orth_losses)\n",
    "    return fc1, loss_histories, runTime, fc0"
   ],
   "outputs": [],
   "execution_count": 36
  },
  {
   "cell_type": "code",
   "metadata": {
    "id": "YrpKQ-Ed2rH1",
    "ExecuteTime": {
     "end_time": "2024-10-23T15:28:01.537710Z",
     "start_time": "2024-10-23T15:28:01.535399Z"
    }
   },
   "source": [
    ""
   ],
   "outputs": [],
   "execution_count": 36
  },
  {
   "cell_type": "code",
   "metadata": {
    "colab": {
     "background_save": true,
     "base_uri": "https://localhost:8080/"
    },
    "executionInfo": {
     "elapsed": 1084189,
     "status": "ok",
     "timestamp": 1640285020320,
     "user": {
      "displayName": "Henry Jin",
      "photoUrl": "https://lh3.googleusercontent.com/a-/AOh14GhYqxAUtwnIYoYilaHJs_IlNi06LeR23MknfmTs=s64",
      "userId": "11060528574976705743"
     },
     "user_tz": 480
    },
    "id": "XdUzP7nNk6Kx",
    "outputId": "ffa4aa58-37c3-46a2-8488-0b2671e207a5",
    "ExecuteTime": {
     "end_time": "2024-10-23T16:18:21.446596Z",
     "start_time": "2024-10-23T16:12:58.139371Z"
    }
   },
   "source": [
    "## Train the model \n",
    "\n",
    "t0 = -6.\n",
    "tf = 6.\n",
    "xBC1=0.\n",
    "\n",
    "n_train, neurons, epochs, lr,mb = 1200, 50, int(3e4), 1e-2, 1 \n",
    "model1,loss_hists1,runTime1, latest_model = run_Scan_finitewell(t0, tf, xBC1, neurons, epochs, n_train, lr, mb)"
   ],
   "outputs": [
    {
     "name": "stdout",
     "output_type": "stream",
     "text": [
      "Epoch 0\n",
      "E 0.10399484634399414\n",
      "rm nan\n",
      "oc 0\n",
      "Epoch 300\n",
      "E 0.46090999245643616\n",
      "rm -29.354189\n",
      "oc 0\n",
      "Epoch 600\n",
      "E 0.43613630533218384\n",
      "rm -14.689775\n",
      "oc 0\n",
      "Epoch 900\n",
      "E 0.3116546869277954\n",
      "rm -9.80035\n",
      "oc 0\n",
      "Epoch 1200\n",
      "E 0.22400948405265808\n",
      "rm -0.029548872\n",
      "oc 0\n",
      "Epoch 1500\n",
      "E 0.17998364567756653\n",
      "rm -0.01000285\n",
      "oc 0\n",
      "Epoch 1800\n",
      "E 0.1524498462677002\n",
      "rm -0.008263819\n",
      "oc 0\n",
      "Epoch 2100\n",
      "E 0.14635562896728516\n",
      "rm -0.0036443796\n",
      "oc 0\n",
      "Epoch 2400\n",
      "E 0.1472814679145813\n",
      "rm -0.0047044116\n",
      "oc 0\n",
      "Epoch 2700\n",
      "E 0.17172974348068237\n",
      "rm -0.0012038989\n",
      "oc 0\n",
      "Epoch 3000\n",
      "E 0.19603657722473145\n",
      "rm -0.0010779002\n",
      "oc 0\n",
      "Epoch 3300\n",
      "E 0.22320333123207092\n",
      "rm -0.0011378796\n",
      "oc 0\n",
      "Epoch 3600\n",
      "E 0.24536535143852234\n",
      "rm -0.0009578621\n",
      "oc 0\n",
      "Epoch 3900\n",
      "E 0.27182531356811523\n",
      "rm -0.00066581846\n",
      "oc 0\n",
      "Epoch 4200\n",
      "E 0.2979379892349243\n",
      "rm -0.00043476952\n",
      "oc 0\n",
      "Epoch 4500\n",
      "E 0.3207658529281616\n",
      "rm -0.0006038773\n",
      "oc 0\n",
      "Epoch 4800\n",
      "E 0.3416852355003357\n",
      "rm -0.00037939966\n",
      "oc 0\n",
      "Epoch 5100\n",
      "E 0.3601139187812805\n",
      "rm -0.00033219586\n",
      "oc 0\n",
      "Epoch 5400\n",
      "E 0.3712612986564636\n",
      "rm -0.00010745216\n",
      "oc 0\n",
      "Epoch 5700\n",
      "E 0.37959790229797363\n",
      "rm -0.00012489426\n",
      "oc 0\n",
      "Epoch 6000\n",
      "E 0.3830614686012268\n",
      "rm -0.00010134345\n",
      "oc 0\n",
      "Epoch 6300\n",
      "E 0.3826332688331604\n",
      "rm -0.00015604925\n",
      "oc 0\n",
      "Epoch 6600\n",
      "E 0.3833537697792053\n",
      "rm -6.825137e-05\n",
      "oc 0\n",
      "Epoch 6900\n",
      "E 0.3831859230995178\n",
      "rm -7.165468e-05\n",
      "oc 0\n",
      "Epoch 7200\n",
      "E 0.37985461950302124\n",
      "rm -3.765136e-05\n",
      "oc 0\n",
      "Epoch 7500\n",
      "E 0.3770594596862793\n",
      "rm -7.425958e-05\n",
      "oc 0\n",
      "Epoch 7800\n",
      "E 0.37536975741386414\n",
      "rm -7.336694e-05\n",
      "oc 0\n",
      "Epoch 8100\n",
      "E 0.3722538352012634\n",
      "rm -6.452554e-05\n",
      "oc 0\n",
      "Epoch 8400\n",
      "E 0.3695833384990692\n",
      "rm -4.7927617e-05\n",
      "oc 0\n",
      "Epoch 8700\n",
      "E 0.36697256565093994\n",
      "rm -7.706827e-05\n",
      "oc 0\n",
      "Epoch 9000\n",
      "E 0.36436671018600464\n",
      "rm -3.4229994e-05\n",
      "oc 0\n",
      "Epoch 9300\n",
      "E 0.3614780902862549\n",
      "rm -3.9337872e-05\n",
      "oc 0\n",
      "Epoch 9600\n",
      "E 0.3592526316642761\n",
      "rm -4.4736207e-05\n",
      "oc 0\n",
      "Epoch 9900\n",
      "E 0.35664141178131104\n",
      "rm -3.6667705e-05\n",
      "oc 0\n",
      "Epoch 10200\n",
      "E 0.3564736247062683\n",
      "rm -3.2785236e-05\n",
      "oc 0\n",
      "Epoch 10500\n",
      "E 0.3571578860282898\n",
      "rm -1.4589667e-05\n",
      "oc 0\n",
      "Epoch 10800\n",
      "E 0.3586782217025757\n",
      "rm -2.965474e-05\n",
      "oc 0\n",
      "Epoch 11100\n",
      "E 0.36067160964012146\n",
      "rm -5.6099118e-05\n",
      "oc 0\n",
      "Epoch 11400\n",
      "E 0.36293119192123413\n",
      "rm -1.4727175e-05\n",
      "oc 0\n",
      "Epoch 11700\n",
      "E 0.3641504645347595\n",
      "rm -3.153789e-05\n",
      "oc 0\n",
      "Epoch 12000\n",
      "E 0.3641110956668854\n",
      "rm -2.8169572e-05\n",
      "oc 0\n",
      "Epoch 12300\n",
      "E 0.36291825771331787\n",
      "rm -1.8772005e-05\n",
      "oc 0\n",
      "Epoch 12600\n",
      "E 0.3614135682582855\n",
      "rm -6.9181324e-06\n",
      "oc 0\n",
      "Epoch 12900\n",
      "E 0.3595842719078064\n",
      "rm -9.1489555e-06\n",
      "oc 0\n",
      "Epoch 13200\n",
      "E 0.3574673533439636\n",
      "rm -3.5418212e-05\n",
      "oc 0\n",
      "Epoch 13500\n",
      "E 0.3560512661933899\n",
      "rm -1.3534486e-05\n",
      "oc 0\n",
      "Epoch 13800\n",
      "E 0.3547688126564026\n",
      "rm -9.812713e-06\n",
      "oc 0\n",
      "Epoch 14100\n",
      "E 0.35429930686950684\n",
      "rm -1.4457106e-06\n",
      "oc 0\n",
      "Epoch 14400\n",
      "E 0.3544061779975891\n",
      "rm -5.2223204e-06\n",
      "oc 0\n",
      "Epoch 14700\n",
      "E 0.35479170083999634\n",
      "rm -1.5798569e-05\n",
      "oc 0\n",
      "Epoch 15000\n",
      "E 0.3556915819644928\n",
      "rm -1.4907718e-05\n",
      "oc 0\n",
      "Epoch 15000\n",
      "E 0.3556915819644928\n",
      "rm -1.4907718e-05\n",
      "oc 1\n"
     ]
    },
    {
     "name": "stderr",
     "output_type": "stream",
     "text": [
      "/var/folders/rp/z71tf65903lg7p97dqdlw78w0000gn/T/ipykernel_27051/3220408015.py:4: FutureWarning: `nn.init.xavier_uniform` is now deprecated in favor of `nn.init.xavier_uniform_`.\n",
      "  torch.nn.init.xavier_uniform(m.weight.data)\n"
     ]
    },
    {
     "name": "stdout",
     "output_type": "stream",
     "text": [
      "Epoch 15300\n",
      "E 0.03858199715614319\n",
      "rm 0.12491029\n",
      "oc 1\n",
      "Epoch 15600\n",
      "E 0.10480949282646179\n",
      "rm 0.19963574\n",
      "oc 1\n",
      "Epoch 15900\n",
      "E 0.3850466310977936\n",
      "rm 0.16201349\n",
      "oc 1\n",
      "Epoch 16200\n",
      "E 0.5192444920539856\n",
      "rm -0.8898355\n",
      "oc 1\n",
      "Epoch 16500\n",
      "E 0.6330002546310425\n",
      "rm -0.2777911\n",
      "oc 1\n",
      "Epoch 16800\n",
      "E 0.7743462324142456\n",
      "rm -0.17469385\n",
      "oc 1\n",
      "Epoch 17100\n",
      "E 0.9150350093841553\n",
      "rm -0.113658525\n",
      "oc 1\n",
      "Epoch 17400\n",
      "E 1.0377271175384521\n",
      "rm -0.06691473\n",
      "oc 1\n",
      "Epoch 17700\n",
      "E 1.215267300605774\n",
      "rm -0.0474064\n",
      "oc 1\n",
      "Epoch 18000\n",
      "E 1.4036773443222046\n",
      "rm -0.04013586\n",
      "oc 1\n",
      "Epoch 18300\n",
      "E 1.5937917232513428\n",
      "rm -0.03277642\n",
      "oc 1\n",
      "Epoch 18600\n",
      "E 1.7747657299041748\n",
      "rm -0.030236203\n",
      "oc 1\n",
      "Epoch 18900\n",
      "E 1.9684572219848633\n",
      "rm -0.021696197\n",
      "oc 1\n",
      "Epoch 19200\n",
      "E 2.1602933406829834\n",
      "rm -0.0265359\n",
      "oc 1\n",
      "Epoch 19500\n",
      "E 2.3508009910583496\n",
      "rm -0.021882463\n",
      "oc 1\n",
      "Epoch 19800\n",
      "E 2.52017879486084\n",
      "rm -0.014312195\n",
      "oc 1\n",
      "Epoch 20100\n",
      "E 2.669206142425537\n",
      "rm -0.014951163\n",
      "oc 1\n",
      "Epoch 20400\n",
      "E 2.804891586303711\n",
      "rm -0.011865194\n",
      "oc 1\n",
      "Epoch 20700\n",
      "E 2.9321112632751465\n",
      "rm -0.006600461\n",
      "oc 1\n",
      "Epoch 21000\n",
      "E 3.0344643592834473\n",
      "rm -0.007898631\n",
      "oc 1\n",
      "Epoch 21300\n",
      "E 3.1161446571350098\n",
      "rm -0.0063395957\n",
      "oc 1\n",
      "Epoch 21600\n",
      "E 3.179605007171631\n",
      "rm -0.0030263686\n",
      "oc 1\n",
      "Epoch 21900\n",
      "E 3.230034828186035\n",
      "rm -0.0009028072\n",
      "oc 1\n",
      "Epoch 22200\n",
      "E 3.26424241065979\n",
      "rm -0.00048605108\n",
      "oc 1\n",
      "Epoch 22500\n",
      "E 3.2783186435699463\n",
      "rm -0.0028780808\n",
      "oc 1\n",
      "Epoch 22800\n",
      "E 3.2842040061950684\n",
      "rm -0.0007274094\n",
      "oc 1\n",
      "Epoch 23100\n",
      "E 3.282898187637329\n",
      "rm -0.0013656473\n",
      "oc 1\n",
      "Epoch 23400\n",
      "E 3.2760188579559326\n",
      "rm -0.0007394328\n",
      "oc 1\n",
      "Epoch 23700\n",
      "E 3.2649340629577637\n",
      "rm -0.0007847776\n",
      "oc 1\n",
      "Epoch 24000\n",
      "E 3.248708724975586\n",
      "rm -0.0013392734\n",
      "oc 1\n",
      "Epoch 24300\n",
      "E 3.234063148498535\n",
      "rm -0.0030171329\n",
      "oc 1\n",
      "Epoch 24600\n",
      "E 3.2169198989868164\n",
      "rm -0.0030735445\n",
      "oc 1\n",
      "Epoch 24900\n",
      "E 3.200005054473877\n",
      "rm 0.00046339177\n",
      "oc 1\n",
      "Epoch 25200\n",
      "E 3.1868720054626465\n",
      "rm -0.0003243909\n",
      "oc 1\n",
      "Epoch 25500\n",
      "E 3.1783485412597656\n",
      "rm -0.0025575208\n",
      "oc 1\n",
      "Epoch 25800\n",
      "E 3.173333168029785\n",
      "rm -0.0023657721\n",
      "oc 1\n",
      "Epoch 26100\n",
      "E 3.1674375534057617\n",
      "rm -0.0017071376\n",
      "oc 1\n",
      "Epoch 26400\n",
      "E 3.1651883125305176\n",
      "rm -0.0018968009\n",
      "oc 1\n",
      "Epoch 26700\n",
      "E 3.161999225616455\n",
      "rm -0.00035009003\n",
      "oc 1\n",
      "Epoch 27000\n",
      "E 3.1641359329223633\n",
      "rm -0.00068113947\n",
      "oc 1\n",
      "Epoch 27300\n",
      "E 3.168458938598633\n",
      "rm -0.0011765675\n",
      "oc 1\n",
      "Epoch 27600\n",
      "E 3.174746513366699\n",
      "rm -0.0005154424\n",
      "oc 1\n",
      "Epoch 27900\n",
      "E 3.179872989654541\n",
      "rm -0.0007333794\n",
      "oc 1\n",
      "Epoch 28200\n",
      "E 3.1841320991516113\n",
      "rm -0.0016381831\n",
      "oc 1\n",
      "Epoch 28500\n",
      "E 3.189119815826416\n",
      "rm -0.00076013757\n",
      "oc 1\n",
      "Epoch 28800\n",
      "E 3.194265842437744\n",
      "rm -0.0014951163\n",
      "oc 1\n",
      "Epoch 29100\n",
      "E 3.1982951164245605\n",
      "rm -0.00038097237\n",
      "oc 1\n",
      "Epoch 29400\n",
      "E 3.1993746757507324\n",
      "rm -0.0011769572\n",
      "oc 1\n",
      "Epoch 29700\n",
      "E 3.2020082473754883\n",
      "rm -0.0012596364\n",
      "oc 1\n"
     ]
    }
   ],
   "execution_count": 52
  },
  {
   "metadata": {
    "ExecuteTime": {
     "end_time": "2024-10-23T16:18:51.999334Z",
     "start_time": "2024-10-23T16:18:51.879325Z"
    }
   },
   "cell_type": "code",
   "source": [
    "plt.figure(figsize=(8, 6))\n",
    "# En_history = [i.detach().numpy() for i in loss_history[1]]\n",
    "En_history = loss_hists1[8]\n",
    "plt.plot(En_history, '-b', alpha=0.975)\n",
    "plt.tight_layout()\n",
    "# x_ticks = [10**i for i in range(0, 5)]  # x 轴刻度从 10^0 到 10^4\n",
    "# y_ticks = [10**i for i in range(-1, 4)]  # y 轴刻度从 10^-1 到 10^3\n",
    "plt.ylabel('En');\n",
    "plt.xlabel('Epochs')\n",
    "plt.show()"
   ],
   "outputs": [
    {
     "data": {
      "text/plain": [
       "<Figure size 800x600 with 1 Axes>"
      ],
      "image/png": "[encoded data removed]"
     },
     "metadata": {},
     "output_type": "display_data"
    }
   ],
   "execution_count": 55
  },
  {
   "cell_type": "code",
   "metadata": {
    "colab": {
     "background_save": true,
     "base_uri": "https://localhost:8080/",
     "height": 481
    },
    "executionInfo": {
     "elapsed": 1321,
     "status": "ok",
     "timestamp": 1640285021641,
     "user": {
      "displayName": "Henry Jin",
      "photoUrl": "https://lh3.googleusercontent.com/a-/AOh14GhYqxAUtwnIYoYilaHJs_IlNi06LeR23MknfmTs=s64",
      "userId": "11060528574976705743"
     },
     "user_tz": 480
    },
    "id": "vPtAF5PYfzEt",
    "outputId": "7400536b-c223-4af6-e3ea-faa12d112147",
    "ExecuteTime": {
     "end_time": "2024-10-23T16:19:48.927054Z",
     "start_time": "2024-10-23T16:19:48.685366Z"
    }
   },
   "source": [
    "# Loss function\n",
    "print('Training time (minutes):', runTime1/60)\n",
    "plt.figure(figsize = (8,6))\n",
    "plt.semilogy(loss_hists1[0],'-b',alpha=0.975);\n",
    "#plt.axvline(x = aarg)\n",
    "\n",
    "plt.tight_layout()\n",
    "plt.ylabel('Total Loss');plt.xlabel('Epochs')\n",
    "#plt.savefig(imgdir+'finite_total_loss.png', bbox_inches = 'tight')\n",
    "\n",
    "# Symm, square rooting both terms in normalisation loss term\n",
    "\n",
    "# Eigenvalue. +1"
   ],
   "outputs": [
    {
     "name": "stdout",
     "output_type": "stream",
     "text": [
      "Training time (minutes): 5.157884216308593\n"
     ]
    },
    {
     "data": {
      "text/plain": [
       "Text(0.5, 27.722222222222207, 'Epochs')"
      ]
     },
     "execution_count": 56,
     "metadata": {},
     "output_type": "execute_result"
    },
    {
     "data": {
      "text/plain": [
       "<Figure size 800x600 with 1 Axes>"
      ],
      "image/png": "[encoded data removed]"
     },
     "metadata": {},
     "output_type": "display_data"
    }
   ],
   "execution_count": 56
  },
  {
   "cell_type": "code",
   "metadata": {
    "colab": {
     "background_save": true
    },
    "id": "ZsSfefQ1fzHi"
   },
   "source": [
    ""
   ],
   "outputs": [],
   "execution_count": null
  },
  {
   "cell_type": "code",
   "metadata": {
    "colab": {
     "background_save": true
    },
    "id": "hw9jyFaUk6K6",
    "ExecuteTime": {
     "end_time": "2024-10-23T15:28:38.940787Z",
     "start_time": "2024-10-23T15:28:38.933614Z"
    }
   },
   "source": [
    "# TEST THE PREDICTED SOLUTIONS\n",
    "nTest = n_train; tTest = torch.linspace(t0-.1,tf+.1,nTest)\n",
    "tTest = tTest.reshape(-1,1);\n",
    "tTest.requires_grad=True\n",
    "t_net = tTest.detach().numpy()\n",
    "psi =parametricSolutions(tTest,model1.cpu(),t0,xBC1) \n",
    "psi=psi.data.numpy(); "
   ],
   "outputs": [],
   "execution_count": 39
  },
  {
   "cell_type": "code",
   "metadata": {
    "colab": {
     "background_save": true,
     "base_uri": "https://localhost:8080/"
    },
    "executionInfo": {
     "elapsed": 222,
     "status": "ok",
     "timestamp": 1640285021859,
     "user": {
      "displayName": "Henry Jin",
      "photoUrl": "https://lh3.googleusercontent.com/a-/AOh14GhYqxAUtwnIYoYilaHJs_IlNi06LeR23MknfmTs=s64",
      "userId": "11060528574976705743"
     },
     "user_tz": 480
    },
    "id": "kvsaRRSZk6K-",
    "outputId": "74f4b97f-9213-41d9-aa6d-1925865a6546",
    "ExecuteTime": {
     "end_time": "2024-10-24T03:00:35.272956Z",
     "start_time": "2024-10-24T03:00:35.151171Z"
    }
   },
   "source": [
    "tru = np.sin(3*np.pi*t_net)*np.max(-1*psi)\n",
    "#plt.plot(t_net, tru, '-r', linewidth = 1, label = 'True')\n",
    "plt.xlim(-6,6)\n",
    "plt.plot(t_net, 1*psi, '-b', linewidth=1, label = 'ANN')\n",
    "plt.plot(t_net, np.zeros(len(t_net)),'--k', linewidth=3)\n",
    "plt.xlabel('x')\n",
    "plt.ylabel('$\\psi(x)$')\n",
    "plt.grid('on')\n",
    "\n",
    "plotxs = np.linspace(-6,6,100)\n",
    "L = 2\n",
    "plotys = 10*(np.heaviside(plotxs+4/8, 0) + np.heaviside(-1*plotxs+4/8, 0) + np.heaviside(plotxs-20/8, 0) + np.heaviside(-1*plotxs-20/8, 0))-10\n",
    "plt.plot(plotxs, plotys, '-r')\n",
    "\n"
   ],
   "outputs": [
    {
     "data": {
      "text/plain": [
       "[<matplotlib.lines.Line2D at 0x2955cf5e0>]"
      ]
     },
     "execution_count": 61,
     "metadata": {},
     "output_type": "execute_result"
    },
    {
     "data": {
      "text/plain": [
       "<Figure size 640x480 with 1 Axes>"
      ],
      "image/png": "[encoded data removed]"
     },
     "metadata": {},
     "output_type": "display_data"
    }
   ],
   "execution_count": 61
  },
  {
   "cell_type": "code",
   "metadata": {
    "colab": {
     "background_save": true,
     "base_uri": "https://localhost:8080/"
    },
    "executionInfo": {
     "elapsed": 2074,
     "status": "ok",
     "timestamp": 1640285023932,
     "user": {
      "displayName": "Henry Jin",
      "photoUrl": "https://lh3.googleusercontent.com/a-/AOh14GhYqxAUtwnIYoYilaHJs_IlNi06LeR23MknfmTs=s64",
      "userId": "11060528574976705743"
     },
     "user_tz": 480
    },
    "id": "4k_HVw9Ik6LQ",
    "outputId": "2319c2e7-bfe8-4f05-b168-470bdfa5b636",
    "ExecuteTime": {
     "end_time": "2024-10-23T15:31:05.989693Z",
     "start_time": "2024-10-23T15:31:03.516366Z"
    }
   },
   "source": [
    "#(Loss_history, boundary_loss_history, nontriv_loss_history, SE_loss_history, Ennontriv_loss_history)\n",
    "plt.figure(figsize =(8,6))\n",
    "\n",
    "plt.loglog(loss_hists1[3],'-b',alpha=0.975);\n",
    "#plt.axvline(x = aarg)\n",
    "\n",
    "plt.tight_layout()\n",
    "plt.ylabel('Schrodinger Equation Loss');plt.xlabel('Epochs')\n",
    "#plt.savefig(imgdir+'finite_SE_loss.png', bbox_inches = 'tight')"
   ],
   "outputs": [
    {
     "ename": "RuntimeError",
     "evalue": "Can't call numpy() on Tensor that requires grad. Use tensor.detach().numpy() instead.",
     "output_type": "error",
     "traceback": [
      "\u001B[0;31m---------------------------------------------------------------------------\u001B[0m",
      "\u001B[0;31mRuntimeError\u001B[0m                              Traceback (most recent call last)",
      "Cell \u001B[0;32mIn[43], line 4\u001B[0m\n\u001B[1;32m      1\u001B[0m \u001B[38;5;66;03m#(Loss_history, boundary_loss_history, nontriv_loss_history, SE_loss_history, Ennontriv_loss_history)\u001B[39;00m\n\u001B[1;32m      2\u001B[0m plt\u001B[38;5;241m.\u001B[39mfigure(figsize \u001B[38;5;241m=\u001B[39m(\u001B[38;5;241m8\u001B[39m,\u001B[38;5;241m6\u001B[39m))\n\u001B[0;32m----> 4\u001B[0m \u001B[43mplt\u001B[49m\u001B[38;5;241;43m.\u001B[39;49m\u001B[43mloglog\u001B[49m\u001B[43m(\u001B[49m\u001B[43mloss_hists1\u001B[49m\u001B[43m[\u001B[49m\u001B[38;5;241;43m3\u001B[39;49m\u001B[43m]\u001B[49m\u001B[43m,\u001B[49m\u001B[38;5;124;43m'\u001B[39;49m\u001B[38;5;124;43m-b\u001B[39;49m\u001B[38;5;124;43m'\u001B[39;49m\u001B[43m,\u001B[49m\u001B[43malpha\u001B[49m\u001B[38;5;241;43m=\u001B[39;49m\u001B[38;5;241;43m0.975\u001B[39;49m\u001B[43m)\u001B[49m;\n\u001B[1;32m      5\u001B[0m \u001B[38;5;66;03m#plt.axvline(x = aarg)\u001B[39;00m\n\u001B[1;32m      7\u001B[0m plt\u001B[38;5;241m.\u001B[39mtight_layout()\n",
      "File \u001B[0;32m~/miniconda3/envs/SEqua/lib/python3.8/site-packages/matplotlib/pyplot.py:2722\u001B[0m, in \u001B[0;36mloglog\u001B[0;34m(*args, **kwargs)\u001B[0m\n\u001B[1;32m   2720\u001B[0m \u001B[38;5;129m@_copy_docstring_and_deprecators\u001B[39m(Axes\u001B[38;5;241m.\u001B[39mloglog)\n\u001B[1;32m   2721\u001B[0m \u001B[38;5;28;01mdef\u001B[39;00m \u001B[38;5;21mloglog\u001B[39m(\u001B[38;5;241m*\u001B[39margs, \u001B[38;5;241m*\u001B[39m\u001B[38;5;241m*\u001B[39mkwargs):\n\u001B[0;32m-> 2722\u001B[0m     \u001B[38;5;28;01mreturn\u001B[39;00m \u001B[43mgca\u001B[49m\u001B[43m(\u001B[49m\u001B[43m)\u001B[49m\u001B[38;5;241;43m.\u001B[39;49m\u001B[43mloglog\u001B[49m\u001B[43m(\u001B[49m\u001B[38;5;241;43m*\u001B[39;49m\u001B[43margs\u001B[49m\u001B[43m,\u001B[49m\u001B[43m \u001B[49m\u001B[38;5;241;43m*\u001B[39;49m\u001B[38;5;241;43m*\u001B[39;49m\u001B[43mkwargs\u001B[49m\u001B[43m)\u001B[49m\n",
      "File \u001B[0;32m~/miniconda3/envs/SEqua/lib/python3.8/site-packages/matplotlib/axes/_axes.py:1829\u001B[0m, in \u001B[0;36mAxes.loglog\u001B[0;34m(self, *args, **kwargs)\u001B[0m\n\u001B[1;32m   1825\u001B[0m dy \u001B[38;5;241m=\u001B[39m {k: v \u001B[38;5;28;01mfor\u001B[39;00m k, v \u001B[38;5;129;01min\u001B[39;00m kwargs\u001B[38;5;241m.\u001B[39mitems()\n\u001B[1;32m   1826\u001B[0m       \u001B[38;5;28;01mif\u001B[39;00m k \u001B[38;5;129;01min\u001B[39;00m [\u001B[38;5;124m'\u001B[39m\u001B[38;5;124mbase\u001B[39m\u001B[38;5;124m'\u001B[39m, \u001B[38;5;124m'\u001B[39m\u001B[38;5;124msubs\u001B[39m\u001B[38;5;124m'\u001B[39m, \u001B[38;5;124m'\u001B[39m\u001B[38;5;124mnonpositive\u001B[39m\u001B[38;5;124m'\u001B[39m,\n\u001B[1;32m   1827\u001B[0m                \u001B[38;5;124m'\u001B[39m\u001B[38;5;124mbasey\u001B[39m\u001B[38;5;124m'\u001B[39m, \u001B[38;5;124m'\u001B[39m\u001B[38;5;124msubsy\u001B[39m\u001B[38;5;124m'\u001B[39m, \u001B[38;5;124m'\u001B[39m\u001B[38;5;124mnonposy\u001B[39m\u001B[38;5;124m'\u001B[39m]}\n\u001B[1;32m   1828\u001B[0m \u001B[38;5;28mself\u001B[39m\u001B[38;5;241m.\u001B[39mset_yscale(\u001B[38;5;124m'\u001B[39m\u001B[38;5;124mlog\u001B[39m\u001B[38;5;124m'\u001B[39m, \u001B[38;5;241m*\u001B[39m\u001B[38;5;241m*\u001B[39mdy)\n\u001B[0;32m-> 1829\u001B[0m \u001B[38;5;28;01mreturn\u001B[39;00m \u001B[38;5;28;43mself\u001B[39;49m\u001B[38;5;241;43m.\u001B[39;49m\u001B[43mplot\u001B[49m\u001B[43m(\u001B[49m\n\u001B[1;32m   1830\u001B[0m \u001B[43m    \u001B[49m\u001B[38;5;241;43m*\u001B[39;49m\u001B[43margs\u001B[49m\u001B[43m,\u001B[49m\u001B[43m \u001B[49m\u001B[38;5;241;43m*\u001B[39;49m\u001B[38;5;241;43m*\u001B[39;49m\u001B[43m{\u001B[49m\u001B[43mk\u001B[49m\u001B[43m:\u001B[49m\u001B[43m \u001B[49m\u001B[43mv\u001B[49m\u001B[43m \u001B[49m\u001B[38;5;28;43;01mfor\u001B[39;49;00m\u001B[43m \u001B[49m\u001B[43mk\u001B[49m\u001B[43m,\u001B[49m\u001B[43m \u001B[49m\u001B[43mv\u001B[49m\u001B[43m \u001B[49m\u001B[38;5;129;43;01min\u001B[39;49;00m\u001B[43m \u001B[49m\u001B[43mkwargs\u001B[49m\u001B[38;5;241;43m.\u001B[39;49m\u001B[43mitems\u001B[49m\u001B[43m(\u001B[49m\u001B[43m)\u001B[49m\u001B[43m \u001B[49m\u001B[38;5;28;43;01mif\u001B[39;49;00m\u001B[43m \u001B[49m\u001B[43mk\u001B[49m\u001B[43m \u001B[49m\u001B[38;5;129;43;01mnot\u001B[39;49;00m\u001B[43m \u001B[49m\u001B[38;5;129;43;01min\u001B[39;49;00m\u001B[43m \u001B[49m\u001B[43m{\u001B[49m\u001B[38;5;241;43m*\u001B[39;49m\u001B[43mdx\u001B[49m\u001B[43m,\u001B[49m\u001B[43m \u001B[49m\u001B[38;5;241;43m*\u001B[39;49m\u001B[43mdy\u001B[49m\u001B[43m}\u001B[49m\u001B[43m}\u001B[49m\u001B[43m)\u001B[49m\n",
      "File \u001B[0;32m~/miniconda3/envs/SEqua/lib/python3.8/site-packages/matplotlib/axes/_axes.py:1688\u001B[0m, in \u001B[0;36mAxes.plot\u001B[0;34m(self, scalex, scaley, data, *args, **kwargs)\u001B[0m\n\u001B[1;32m   1445\u001B[0m \u001B[38;5;250m\u001B[39m\u001B[38;5;124;03m\"\"\"\u001B[39;00m\n\u001B[1;32m   1446\u001B[0m \u001B[38;5;124;03mPlot y versus x as lines and/or markers.\u001B[39;00m\n\u001B[1;32m   1447\u001B[0m \n\u001B[0;32m   (...)\u001B[0m\n\u001B[1;32m   1685\u001B[0m \u001B[38;5;124;03m(``'green'``) or hex strings (``'#008000'``).\u001B[39;00m\n\u001B[1;32m   1686\u001B[0m \u001B[38;5;124;03m\"\"\"\u001B[39;00m\n\u001B[1;32m   1687\u001B[0m kwargs \u001B[38;5;241m=\u001B[39m cbook\u001B[38;5;241m.\u001B[39mnormalize_kwargs(kwargs, mlines\u001B[38;5;241m.\u001B[39mLine2D)\n\u001B[0;32m-> 1688\u001B[0m lines \u001B[38;5;241m=\u001B[39m [\u001B[38;5;241m*\u001B[39m\u001B[38;5;28mself\u001B[39m\u001B[38;5;241m.\u001B[39m_get_lines(\u001B[38;5;241m*\u001B[39margs, data\u001B[38;5;241m=\u001B[39mdata, \u001B[38;5;241m*\u001B[39m\u001B[38;5;241m*\u001B[39mkwargs)]\n\u001B[1;32m   1689\u001B[0m \u001B[38;5;28;01mfor\u001B[39;00m line \u001B[38;5;129;01min\u001B[39;00m lines:\n\u001B[1;32m   1690\u001B[0m     \u001B[38;5;28mself\u001B[39m\u001B[38;5;241m.\u001B[39madd_line(line)\n",
      "File \u001B[0;32m~/miniconda3/envs/SEqua/lib/python3.8/site-packages/matplotlib/axes/_base.py:311\u001B[0m, in \u001B[0;36m_process_plot_var_args.__call__\u001B[0;34m(self, data, *args, **kwargs)\u001B[0m\n\u001B[1;32m    309\u001B[0m     this \u001B[38;5;241m+\u001B[39m\u001B[38;5;241m=\u001B[39m args[\u001B[38;5;241m0\u001B[39m],\n\u001B[1;32m    310\u001B[0m     args \u001B[38;5;241m=\u001B[39m args[\u001B[38;5;241m1\u001B[39m:]\n\u001B[0;32m--> 311\u001B[0m \u001B[38;5;28;01myield from\u001B[39;00m \u001B[38;5;28;43mself\u001B[39;49m\u001B[38;5;241;43m.\u001B[39;49m\u001B[43m_plot_args\u001B[49m\u001B[43m(\u001B[49m\n\u001B[1;32m    312\u001B[0m \u001B[43m    \u001B[49m\u001B[43mthis\u001B[49m\u001B[43m,\u001B[49m\u001B[43m \u001B[49m\u001B[43mkwargs\u001B[49m\u001B[43m,\u001B[49m\u001B[43m \u001B[49m\u001B[43mambiguous_fmt_datakey\u001B[49m\u001B[38;5;241;43m=\u001B[39;49m\u001B[43mambiguous_fmt_datakey\u001B[49m\u001B[43m)\u001B[49m\n",
      "File \u001B[0;32m~/miniconda3/envs/SEqua/lib/python3.8/site-packages/matplotlib/axes/_base.py:496\u001B[0m, in \u001B[0;36m_process_plot_var_args._plot_args\u001B[0;34m(self, tup, kwargs, return_kwargs, ambiguous_fmt_datakey)\u001B[0m\n\u001B[1;32m    494\u001B[0m     y \u001B[38;5;241m=\u001B[39m _check_1d(xy[\u001B[38;5;241m1\u001B[39m])\n\u001B[1;32m    495\u001B[0m \u001B[38;5;28;01melse\u001B[39;00m:\n\u001B[0;32m--> 496\u001B[0m     x, y \u001B[38;5;241m=\u001B[39m \u001B[43mindex_of\u001B[49m\u001B[43m(\u001B[49m\u001B[43mxy\u001B[49m\u001B[43m[\u001B[49m\u001B[38;5;241;43m-\u001B[39;49m\u001B[38;5;241;43m1\u001B[39;49m\u001B[43m]\u001B[49m\u001B[43m)\u001B[49m\n\u001B[1;32m    498\u001B[0m \u001B[38;5;28;01mif\u001B[39;00m \u001B[38;5;28mself\u001B[39m\u001B[38;5;241m.\u001B[39maxes\u001B[38;5;241m.\u001B[39mxaxis \u001B[38;5;129;01mis\u001B[39;00m \u001B[38;5;129;01mnot\u001B[39;00m \u001B[38;5;28;01mNone\u001B[39;00m:\n\u001B[1;32m    499\u001B[0m     \u001B[38;5;28mself\u001B[39m\u001B[38;5;241m.\u001B[39maxes\u001B[38;5;241m.\u001B[39mxaxis\u001B[38;5;241m.\u001B[39mupdate_units(x)\n",
      "File \u001B[0;32m~/miniconda3/envs/SEqua/lib/python3.8/site-packages/matplotlib/cbook/__init__.py:1661\u001B[0m, in \u001B[0;36mindex_of\u001B[0;34m(y)\u001B[0m\n\u001B[1;32m   1659\u001B[0m     \u001B[38;5;28;01mpass\u001B[39;00m\n\u001B[1;32m   1660\u001B[0m \u001B[38;5;28;01mtry\u001B[39;00m:\n\u001B[0;32m-> 1661\u001B[0m     y \u001B[38;5;241m=\u001B[39m \u001B[43m_check_1d\u001B[49m\u001B[43m(\u001B[49m\u001B[43my\u001B[49m\u001B[43m)\u001B[49m\n\u001B[1;32m   1662\u001B[0m \u001B[38;5;28;01mexcept\u001B[39;00m (np\u001B[38;5;241m.\u001B[39mVisibleDeprecationWarning, \u001B[38;5;167;01mValueError\u001B[39;00m):\n\u001B[1;32m   1663\u001B[0m     \u001B[38;5;66;03m# NumPy 1.19 will warn on ragged input, and we can't actually use it.\u001B[39;00m\n\u001B[1;32m   1664\u001B[0m     \u001B[38;5;28;01mpass\u001B[39;00m\n",
      "File \u001B[0;32m~/miniconda3/envs/SEqua/lib/python3.8/site-packages/matplotlib/cbook/__init__.py:1353\u001B[0m, in \u001B[0;36m_check_1d\u001B[0;34m(x)\u001B[0m\n\u001B[1;32m   1347\u001B[0m \u001B[38;5;66;03m# plot requires `shape` and `ndim`.  If passed an\u001B[39;00m\n\u001B[1;32m   1348\u001B[0m \u001B[38;5;66;03m# object that doesn't provide them, then force to numpy array.\u001B[39;00m\n\u001B[1;32m   1349\u001B[0m \u001B[38;5;66;03m# Note this will strip unit information.\u001B[39;00m\n\u001B[1;32m   1350\u001B[0m \u001B[38;5;28;01mif\u001B[39;00m (\u001B[38;5;129;01mnot\u001B[39;00m \u001B[38;5;28mhasattr\u001B[39m(x, \u001B[38;5;124m'\u001B[39m\u001B[38;5;124mshape\u001B[39m\u001B[38;5;124m'\u001B[39m) \u001B[38;5;129;01mor\u001B[39;00m\n\u001B[1;32m   1351\u001B[0m         \u001B[38;5;129;01mnot\u001B[39;00m \u001B[38;5;28mhasattr\u001B[39m(x, \u001B[38;5;124m'\u001B[39m\u001B[38;5;124mndim\u001B[39m\u001B[38;5;124m'\u001B[39m) \u001B[38;5;129;01mor\u001B[39;00m\n\u001B[1;32m   1352\u001B[0m         \u001B[38;5;28mlen\u001B[39m(x\u001B[38;5;241m.\u001B[39mshape) \u001B[38;5;241m<\u001B[39m \u001B[38;5;241m1\u001B[39m):\n\u001B[0;32m-> 1353\u001B[0m     \u001B[38;5;28;01mreturn\u001B[39;00m \u001B[43mnp\u001B[49m\u001B[38;5;241;43m.\u001B[39;49m\u001B[43matleast_1d\u001B[49m\u001B[43m(\u001B[49m\u001B[43mx\u001B[49m\u001B[43m)\u001B[49m\n\u001B[1;32m   1354\u001B[0m \u001B[38;5;28;01melse\u001B[39;00m:\n\u001B[1;32m   1355\u001B[0m     \u001B[38;5;28;01mreturn\u001B[39;00m x\n",
      "File \u001B[0;32m<__array_function__ internals>:200\u001B[0m, in \u001B[0;36matleast_1d\u001B[0;34m(*args, **kwargs)\u001B[0m\n",
      "File \u001B[0;32m~/miniconda3/envs/SEqua/lib/python3.8/site-packages/numpy/core/shape_base.py:65\u001B[0m, in \u001B[0;36matleast_1d\u001B[0;34m(*arys)\u001B[0m\n\u001B[1;32m     63\u001B[0m res \u001B[38;5;241m=\u001B[39m []\n\u001B[1;32m     64\u001B[0m \u001B[38;5;28;01mfor\u001B[39;00m ary \u001B[38;5;129;01min\u001B[39;00m arys:\n\u001B[0;32m---> 65\u001B[0m     ary \u001B[38;5;241m=\u001B[39m \u001B[43masanyarray\u001B[49m\u001B[43m(\u001B[49m\u001B[43mary\u001B[49m\u001B[43m)\u001B[49m\n\u001B[1;32m     66\u001B[0m     \u001B[38;5;28;01mif\u001B[39;00m ary\u001B[38;5;241m.\u001B[39mndim \u001B[38;5;241m==\u001B[39m \u001B[38;5;241m0\u001B[39m:\n\u001B[1;32m     67\u001B[0m         result \u001B[38;5;241m=\u001B[39m ary\u001B[38;5;241m.\u001B[39mreshape(\u001B[38;5;241m1\u001B[39m)\n",
      "File \u001B[0;32m~/miniconda3/envs/SEqua/lib/python3.8/site-packages/torch/_tensor.py:1083\u001B[0m, in \u001B[0;36mTensor.__array__\u001B[0;34m(self, dtype)\u001B[0m\n\u001B[1;32m   1081\u001B[0m     \u001B[38;5;28;01mreturn\u001B[39;00m handle_torch_function(Tensor\u001B[38;5;241m.\u001B[39m__array__, (\u001B[38;5;28mself\u001B[39m,), \u001B[38;5;28mself\u001B[39m, dtype\u001B[38;5;241m=\u001B[39mdtype)\n\u001B[1;32m   1082\u001B[0m \u001B[38;5;28;01mif\u001B[39;00m dtype \u001B[38;5;129;01mis\u001B[39;00m \u001B[38;5;28;01mNone\u001B[39;00m:\n\u001B[0;32m-> 1083\u001B[0m     \u001B[38;5;28;01mreturn\u001B[39;00m \u001B[38;5;28;43mself\u001B[39;49m\u001B[38;5;241;43m.\u001B[39;49m\u001B[43mnumpy\u001B[49m\u001B[43m(\u001B[49m\u001B[43m)\u001B[49m\n\u001B[1;32m   1084\u001B[0m \u001B[38;5;28;01melse\u001B[39;00m:\n\u001B[1;32m   1085\u001B[0m     \u001B[38;5;28;01mreturn\u001B[39;00m \u001B[38;5;28mself\u001B[39m\u001B[38;5;241m.\u001B[39mnumpy()\u001B[38;5;241m.\u001B[39mastype(dtype, copy\u001B[38;5;241m=\u001B[39m\u001B[38;5;28;01mFalse\u001B[39;00m)\n",
      "\u001B[0;31mRuntimeError\u001B[0m: Can't call numpy() on Tensor that requires grad. Use tensor.detach().numpy() instead."
     ]
    },
    {
     "data": {
      "text/plain": [
       "<Figure size 800x600 with 1 Axes>"
      ],
      "image/png": "[encoded data removed]"
     },
     "metadata": {},
     "output_type": "display_data"
    }
   ],
   "execution_count": 43
  },
  {
   "cell_type": "code",
   "metadata": {
    "colab": {
     "background_save": true
    },
    "id": "IZosc16U3YNE"
   },
   "source": [
    "SE_loss_delta = np.array(loss_hists1[3])[1:]-np.array(loss_hists1[3])[:-1]\n",
    "\n",
    "#plt.loglog(np.convolve(SE_loss_delta, np.ones(50))/50,'-b',alpha=0.975);\n",
    "\n",
    "\n"
   ],
   "outputs": [],
   "execution_count": null
  },
  {
   "cell_type": "code",
   "metadata": {
    "colab": {
     "background_save": true,
     "base_uri": "https://localhost:8080/"
    },
    "executionInfo": {
     "elapsed": 2093,
     "status": "ok",
     "timestamp": 1640285026952,
     "user": {
      "displayName": "Henry Jin",
      "photoUrl": "https://lh3.googleusercontent.com/a-/AOh14GhYqxAUtwnIYoYilaHJs_IlNi06LeR23MknfmTs=s64",
      "userId": "11060528574976705743"
     },
     "user_tz": 480
    },
    "id": "wRWsgF8J0Xz8",
    "outputId": "b1bac836-302d-42f6-e7b7-543acfc5b0d9"
   },
   "source": [
    "plt.figure(figsize =(8,6))\n",
    "\n",
    "plt.loglog(loss_hists1[11],'-b',alpha=0.975);\n",
    "#plt.axvline(x = aarg)\n",
    "\n",
    "plt.tight_layout()\n",
    "plt.ylabel('Ortho Loss');plt.xlabel('Epochs')"
   ],
   "outputs": [],
   "execution_count": null
  },
  {
   "cell_type": "code",
   "metadata": {
    "colab": {
     "base_uri": "https://localhost:8080/"
    },
    "id": "7jLkTc2Yk6Lb",
    "outputId": "ff667958-a2e2-42c2-f05c-3fff74115551"
   },
   "source": [
    "#(Loss_history, boundary_loss_history, nontriv_loss_history, SE_loss_history, Ennontriv_loss_history)\n",
    "plt.figure(figsize =(8,6))\n",
    "\n",
    "plt.loglog(loss_hists1[2],'-b',alpha=0.975);\n",
    "#plt.axvline(x = aarg)\n",
    "\n",
    "plt.tight_layout()\n",
    "plt.ylabel('Normalisation to 100 Loss');plt.xlabel('Epochs')\n",
    "#plt.savefig(imgdir+'finite_nextE_loss.png', bbox_inches = 'tight')"
   ],
   "outputs": [
    {
     "ename": "NameError",
     "evalue": "name 'plt' is not defined",
     "output_type": "error",
     "traceback": [
      "\u001B[0;31m---------------------------------------------------------------------------\u001B[0m",
      "\u001B[0;31mNameError\u001B[0m                                 Traceback (most recent call last)",
      "Cell \u001B[0;32mIn[2], line 2\u001B[0m\n\u001B[1;32m      1\u001B[0m \u001B[38;5;66;03m#(Loss_history, boundary_loss_history, nontriv_loss_history, SE_loss_history, Ennontriv_loss_history)\u001B[39;00m\n\u001B[0;32m----> 2\u001B[0m \u001B[43mplt\u001B[49m\u001B[38;5;241m.\u001B[39mfigure(figsize \u001B[38;5;241m=\u001B[39m(\u001B[38;5;241m8\u001B[39m,\u001B[38;5;241m6\u001B[39m))\n\u001B[1;32m      4\u001B[0m plt\u001B[38;5;241m.\u001B[39mloglog(loss_hists1[\u001B[38;5;241m2\u001B[39m],\u001B[38;5;124m'\u001B[39m\u001B[38;5;124m-b\u001B[39m\u001B[38;5;124m'\u001B[39m,alpha\u001B[38;5;241m=\u001B[39m\u001B[38;5;241m0.975\u001B[39m);\n\u001B[1;32m      5\u001B[0m \u001B[38;5;66;03m#plt.axvline(x = aarg)\u001B[39;00m\n",
      "\u001B[0;31mNameError\u001B[0m: name 'plt' is not defined"
     ]
    }
   ],
   "execution_count": 2
  },
  {
   "cell_type": "code",
   "metadata": {
    "id": "WCJcgA64k6Lf",
    "ExecuteTime": {
     "end_time": "2024-10-23T12:01:29.737070Z",
     "start_time": "2024-10-23T12:01:29.724885Z"
    }
   },
   "source": [
    "# Loss_history, boundary_loss_history, nontriv_loss_history, SE_loss_history, Ennontriv_loss_history, En_loss_history\n",
    "plt.figure(figsize =(8,6))\n",
    "\n",
    "\n",
    "plt.semilogy([0]*(40000-20000)+loss_hists1[11],'-b',alpha=0.975, label = 'Ortho Loss');\n",
    "plt.semilogy(loss_hists1[2],'-r',alpha=0.975, label = 'Norm Loss');\n",
    "plt.semilogy(loss_hists1[3],'--c',alpha=0.975, label = 'Schrod. Eq.');\n",
    "#plt.semilogy(loss_hists1[9],'-k',alpha=0.975, label = 'Schrod. Eq.');\n",
    "\n",
    "#plt.semilogy(loss_hists1[])\n",
    "\n",
    "plt.legend(bbox_to_anchor=(1.04,1), loc=\"upper left\")\n",
    "plt.ylabel('Losses'); plt.xlabel('Epochs')\n",
    "#plt.savefig(imgdir+'finite_all_loss.png', bbox_inches = 'tight')"
   ],
   "outputs": [
    {
     "ename": "NameError",
     "evalue": "name 'plt' is not defined",
     "output_type": "error",
     "traceback": [
      "\u001B[0;31m---------------------------------------------------------------------------\u001B[0m",
      "\u001B[0;31mNameError\u001B[0m                                 Traceback (most recent call last)",
      "Cell \u001B[0;32mIn[3], line 2\u001B[0m\n\u001B[1;32m      1\u001B[0m \u001B[38;5;66;03m# Loss_history, boundary_loss_history, nontriv_loss_history, SE_loss_history, Ennontriv_loss_history, En_loss_history\u001B[39;00m\n\u001B[0;32m----> 2\u001B[0m \u001B[43mplt\u001B[49m\u001B[38;5;241m.\u001B[39mfigure(figsize \u001B[38;5;241m=\u001B[39m(\u001B[38;5;241m8\u001B[39m,\u001B[38;5;241m6\u001B[39m))\n\u001B[1;32m      5\u001B[0m plt\u001B[38;5;241m.\u001B[39msemilogy([\u001B[38;5;241m0\u001B[39m]\u001B[38;5;241m*\u001B[39m(\u001B[38;5;241m40000\u001B[39m\u001B[38;5;241m-\u001B[39m\u001B[38;5;241m20000\u001B[39m)\u001B[38;5;241m+\u001B[39mloss_hists1[\u001B[38;5;241m11\u001B[39m],\u001B[38;5;124m'\u001B[39m\u001B[38;5;124m-b\u001B[39m\u001B[38;5;124m'\u001B[39m,alpha\u001B[38;5;241m=\u001B[39m\u001B[38;5;241m0.975\u001B[39m, label \u001B[38;5;241m=\u001B[39m \u001B[38;5;124m'\u001B[39m\u001B[38;5;124mOrtho Loss\u001B[39m\u001B[38;5;124m'\u001B[39m);\n\u001B[1;32m      6\u001B[0m plt\u001B[38;5;241m.\u001B[39msemilogy(loss_hists1[\u001B[38;5;241m2\u001B[39m],\u001B[38;5;124m'\u001B[39m\u001B[38;5;124m-r\u001B[39m\u001B[38;5;124m'\u001B[39m,alpha\u001B[38;5;241m=\u001B[39m\u001B[38;5;241m0.975\u001B[39m, label \u001B[38;5;241m=\u001B[39m \u001B[38;5;124m'\u001B[39m\u001B[38;5;124mNorm Loss\u001B[39m\u001B[38;5;124m'\u001B[39m);\n",
      "\u001B[0;31mNameError\u001B[0m: name 'plt' is not defined"
     ]
    }
   ],
   "execution_count": 3
  },
  {
   "cell_type": "code",
   "metadata": {
    "colab": {
     "background_save": true
    },
    "id": "SAt1QA-sk6Lj",
    "outputId": "97240be3-804c-4b9f-c6ee-b2f612c8de4c",
    "ExecuteTime": {
     "end_time": "2024-10-23T15:41:12.391691Z",
     "start_time": "2024-10-23T15:41:12.260767Z"
    }
   },
   "source": [
    "plt.figure(figsize = (8,6))\n",
    "plt.plot(loss_hists1[8])\n",
    "#plt.axvline(x = aarg)\n",
    "plt.tight_layout()\n",
    "plt.ylabel('Model Energy History');plt.xlabel('Epochs')\n",
    "#plt.savefig(imgdir+'finite_modelE_hist.png', bbox_inches = 'tight')\n",
    "\n",
    "#+2"
   ],
   "outputs": [
    {
     "data": {
      "text/plain": [
       "Text(0.5, 27.722222222222207, 'Epochs')"
      ]
     },
     "execution_count": 48,
     "metadata": {},
     "output_type": "execute_result"
    },
    {
     "data": {
      "text/plain": [
       "<Figure size 800x600 with 1 Axes>"
      ],
      "image/png": "[encoded data removed]"
     },
     "metadata": {},
     "output_type": "display_data"
    }
   ],
   "execution_count": 48
  },
  {
   "cell_type": "code",
   "metadata": {
    "id": "bGK-VvOUHddw",
    "ExecuteTime": {
     "end_time": "2024-10-23T12:01:30.030597Z",
     "start_time": "2024-10-23T12:01:30.017821Z"
    }
   },
   "source": [
    "plt.figure(figsize = (8,4))\n",
    "plt.plot(loss_hists1[8])\n",
    "#plt.axvline(x = aarg)\n",
    "plt.tight_layout()\n",
    "plt.ylabel('Model Energy History')#;plt.xlabel('Epochs')\n",
    "plt.tick_params(\n",
    "    axis='x',          # changes apply to the x-axis\n",
    "    which='both',      # both major and minor ticks are affected\n",
    "    bottom=False,      # ticks along the bottom edge are off\n",
    "    top=False,         # ticks along the top edge are off\n",
    "    labelbottom=False)\n",
    "plt.savefig(imgdir+'finite_single_plateaus_E.png', bbox_inches = 'tight')\n",
    "\n",
    "plt.figure(figsize =(8,4))\n",
    "\n",
    "plt.plot(np.log10(np.asarray(loss_hists1[3])),'-b',alpha=0.975);\n",
    "#plt.axvline(x = aarg)\n",
    "\n",
    "plt.tight_layout()\n",
    "plt.ylabel('Schrodinger Equation Loss');plt.xlabel('Epochs')\n",
    "#plt.savefig(imgdir+'finite_single_plateaus_SE.png', bbox_inches = 'tight')\n",
    "\n",
    "#/50 for first orth and /200 for second"
   ],
   "outputs": [
    {
     "ename": "NameError",
     "evalue": "name 'plt' is not defined",
     "output_type": "error",
     "traceback": [
      "\u001B[0;31m---------------------------------------------------------------------------\u001B[0m",
      "\u001B[0;31mNameError\u001B[0m                                 Traceback (most recent call last)",
      "Cell \u001B[0;32mIn[5], line 1\u001B[0m\n\u001B[0;32m----> 1\u001B[0m \u001B[43mplt\u001B[49m\u001B[38;5;241m.\u001B[39mfigure(figsize \u001B[38;5;241m=\u001B[39m (\u001B[38;5;241m8\u001B[39m,\u001B[38;5;241m4\u001B[39m))\n\u001B[1;32m      2\u001B[0m plt\u001B[38;5;241m.\u001B[39mplot(loss_hists1[\u001B[38;5;241m8\u001B[39m])\n\u001B[1;32m      3\u001B[0m \u001B[38;5;66;03m#plt.axvline(x = aarg)\u001B[39;00m\n",
      "\u001B[0;31mNameError\u001B[0m: name 'plt' is not defined"
     ]
    }
   ],
   "execution_count": 5
  },
  {
   "cell_type": "code",
   "metadata": {
    "colab": {
     "background_save": true
    },
    "id": "IWmlyucjHY4a",
    "outputId": "508b89ed-89d8-40ab-f262-1282fbfa6350",
    "ExecuteTime": {
     "end_time": "2024-10-23T12:01:30.102748Z",
     "start_time": "2024-10-23T12:01:30.090531Z"
    }
   },
   "source": [
    "bin = 0\n",
    "a = loss_hists1[10][bin][2][0].cpu().detach().numpy()\n",
    "b = loss_hists1[10][bin][2][1].cpu().detach().numpy()\n",
    "zz = zip(a, b)\n",
    "zz = np.asarray(sorted(zz))\n",
    "print(zz.shape)\n",
    "plt.plot(zz[:,0,:], zz[:,1,:])"
   ],
   "outputs": [
    {
     "ename": "NameError",
     "evalue": "name 'loss_hists1' is not defined",
     "output_type": "error",
     "traceback": [
      "\u001B[0;31m---------------------------------------------------------------------------\u001B[0m",
      "\u001B[0;31mNameError\u001B[0m                                 Traceback (most recent call last)",
      "Cell \u001B[0;32mIn[6], line 2\u001B[0m\n\u001B[1;32m      1\u001B[0m \u001B[38;5;28mbin\u001B[39m \u001B[38;5;241m=\u001B[39m \u001B[38;5;241m0\u001B[39m\n\u001B[0;32m----> 2\u001B[0m a \u001B[38;5;241m=\u001B[39m \u001B[43mloss_hists1\u001B[49m[\u001B[38;5;241m10\u001B[39m][\u001B[38;5;28mbin\u001B[39m][\u001B[38;5;241m2\u001B[39m][\u001B[38;5;241m0\u001B[39m]\u001B[38;5;241m.\u001B[39mcpu()\u001B[38;5;241m.\u001B[39mdetach()\u001B[38;5;241m.\u001B[39mnumpy()\n\u001B[1;32m      3\u001B[0m b \u001B[38;5;241m=\u001B[39m loss_hists1[\u001B[38;5;241m10\u001B[39m][\u001B[38;5;28mbin\u001B[39m][\u001B[38;5;241m2\u001B[39m][\u001B[38;5;241m1\u001B[39m]\u001B[38;5;241m.\u001B[39mcpu()\u001B[38;5;241m.\u001B[39mdetach()\u001B[38;5;241m.\u001B[39mnumpy()\n\u001B[1;32m      4\u001B[0m zz \u001B[38;5;241m=\u001B[39m \u001B[38;5;28mzip\u001B[39m(a, b)\n",
      "\u001B[0;31mNameError\u001B[0m: name 'loss_hists1' is not defined"
     ]
    }
   ],
   "execution_count": 6
  },
  {
   "cell_type": "code",
   "metadata": {
    "colab": {
     "background_save": true
    },
    "id": "8-IIA1iYkzgt",
    "outputId": "fd85dc51-1942-4368-ec4d-4667d4600655",
    "ExecuteTime": {
     "end_time": "2024-10-23T12:01:30.211789Z",
     "start_time": "2024-10-23T12:01:30.197466Z"
    }
   },
   "source": [
    "bin = 3\n",
    "psi_0to10 = parametricSolutions(tTest,loss_hists1[10][bin][0].cpu(),t0,xBC1)\n",
    "\n",
    "\n",
    "plt.figure(figsize = (8,6))\n",
    "plt.plot(t_net, 1*psi_0to10.data.numpy(), '-b', linewidth=1, label = 'n = 1')\n",
    "\n",
    "plotxs = np.linspace(-6,6,100)\n",
    "L = 1\n",
    "plotys = (np.heaviside(plotxs+0.6, 0) + np.heaviside(-1*plotxs+0.6, 0) + np.heaviside(plotxs-1.6, 0) + np.heaviside(-1*plotxs-1.6, 0) + np.heaviside(1*plotxs-0.5, 0) + np.heaviside(-1*plotxs-0.5, 0)) -2\n",
    "\n",
    "\n",
    "plt.ylabel('$\\psi(x)$'); plt.xlabel('x')\n",
    "#plt.savefig(imgdir+'finite_single_eigenfuncs3.png', bbox_inches = 'tight')\n"
   ],
   "outputs": [
    {
     "ename": "NameError",
     "evalue": "name 'parametricSolutions' is not defined",
     "output_type": "error",
     "traceback": [
      "\u001B[0;31m---------------------------------------------------------------------------\u001B[0m",
      "\u001B[0;31mNameError\u001B[0m                                 Traceback (most recent call last)",
      "Cell \u001B[0;32mIn[7], line 2\u001B[0m\n\u001B[1;32m      1\u001B[0m \u001B[38;5;28mbin\u001B[39m \u001B[38;5;241m=\u001B[39m \u001B[38;5;241m3\u001B[39m\n\u001B[0;32m----> 2\u001B[0m psi_0to10 \u001B[38;5;241m=\u001B[39m \u001B[43mparametricSolutions\u001B[49m(tTest,loss_hists1[\u001B[38;5;241m10\u001B[39m][\u001B[38;5;28mbin\u001B[39m][\u001B[38;5;241m0\u001B[39m]\u001B[38;5;241m.\u001B[39mcpu(),t0,xBC1)\n\u001B[1;32m      5\u001B[0m plt\u001B[38;5;241m.\u001B[39mfigure(figsize \u001B[38;5;241m=\u001B[39m (\u001B[38;5;241m8\u001B[39m,\u001B[38;5;241m6\u001B[39m))\n\u001B[1;32m      6\u001B[0m plt\u001B[38;5;241m.\u001B[39mplot(t_net, \u001B[38;5;241m1\u001B[39m\u001B[38;5;241m*\u001B[39mpsi_0to10\u001B[38;5;241m.\u001B[39mdata\u001B[38;5;241m.\u001B[39mnumpy(), \u001B[38;5;124m'\u001B[39m\u001B[38;5;124m-b\u001B[39m\u001B[38;5;124m'\u001B[39m, linewidth\u001B[38;5;241m=\u001B[39m\u001B[38;5;241m1\u001B[39m, label \u001B[38;5;241m=\u001B[39m \u001B[38;5;124m'\u001B[39m\u001B[38;5;124mn = 1\u001B[39m\u001B[38;5;124m'\u001B[39m)\n",
      "\u001B[0;31mNameError\u001B[0m: name 'parametricSolutions' is not defined"
     ]
    }
   ],
   "execution_count": 7
  },
  {
   "cell_type": "code",
   "metadata": {
    "colab": {
     "background_save": true
    },
    "id": "o_-52t7ls2-j",
    "outputId": "58a51a16-c84b-43f9-848d-8dedf9ff85f3",
    "ExecuteTime": {
     "end_time": "2024-10-23T12:01:30.249772Z",
     "start_time": "2024-10-23T12:01:30.239015Z"
    }
   },
   "source": [
    "psi_dirac_x = loss_hists1[10][bin][2][0]\n",
    "psi_dirac_H = loss_hists1[10][bin][2][2]\n",
    "psi_dirac = loss_hists1[10][bin][2][3]\n",
    "#psiHpsi_over_psipsi = np.trapz()\n",
    "psi_dirac_x\n",
    "\n"
   ],
   "outputs": [
    {
     "ename": "NameError",
     "evalue": "name 'loss_hists1' is not defined",
     "output_type": "error",
     "traceback": [
      "\u001B[0;31m---------------------------------------------------------------------------\u001B[0m",
      "\u001B[0;31mNameError\u001B[0m                                 Traceback (most recent call last)",
      "Cell \u001B[0;32mIn[8], line 1\u001B[0m\n\u001B[0;32m----> 1\u001B[0m psi_dirac_x \u001B[38;5;241m=\u001B[39m \u001B[43mloss_hists1\u001B[49m[\u001B[38;5;241m10\u001B[39m][\u001B[38;5;28mbin\u001B[39m][\u001B[38;5;241m2\u001B[39m][\u001B[38;5;241m0\u001B[39m]\n\u001B[1;32m      2\u001B[0m psi_dirac_H \u001B[38;5;241m=\u001B[39m loss_hists1[\u001B[38;5;241m10\u001B[39m][\u001B[38;5;28mbin\u001B[39m][\u001B[38;5;241m2\u001B[39m][\u001B[38;5;241m2\u001B[39m]\n\u001B[1;32m      3\u001B[0m psi_dirac \u001B[38;5;241m=\u001B[39m loss_hists1[\u001B[38;5;241m10\u001B[39m][\u001B[38;5;28mbin\u001B[39m][\u001B[38;5;241m2\u001B[39m][\u001B[38;5;241m3\u001B[39m]\n",
      "\u001B[0;31mNameError\u001B[0m: name 'loss_hists1' is not defined"
     ]
    }
   ],
   "execution_count": 8
  },
  {
   "cell_type": "code",
   "metadata": {
    "id": "4r8TdF5lpWAo",
    "ExecuteTime": {
     "end_time": "2024-10-23T12:01:30.315816Z",
     "start_time": "2024-10-23T12:01:30.302973Z"
    }
   },
   "source": [
    "sorted_index = torch.argsort(psi_dirac_x, dim = 0)\n",
    "sorted_x = psi_dirac_x[sorted_index][:,0,0]\n",
    "sorted_psi = psi_dirac[sorted_index][:,0,0]\n",
    "sorted_H = psi_dirac_H[sorted_index][:,0,0]\n",
    "#psi_psi = np.trapz(sorted_psi**2, sorted_x)\n",
    "#sort_norm_psi = sorted_psi/(psi_psi**(1/2))\n",
    "pHp_pp = np.trapz(np.multiply(sorted_H.cpu().data.numpy(),sorted_psi.cpu().data.numpy()), sorted_x.cpu().data.numpy())/np.trapz(sorted_psi.cpu().data.numpy()**2, sorted_x.cpu().data.numpy())\n",
    "pHp_pp\n"
   ],
   "outputs": [
    {
     "ename": "NameError",
     "evalue": "name 'torch' is not defined",
     "output_type": "error",
     "traceback": [
      "\u001B[0;31m---------------------------------------------------------------------------\u001B[0m",
      "\u001B[0;31mNameError\u001B[0m                                 Traceback (most recent call last)",
      "Cell \u001B[0;32mIn[9], line 1\u001B[0m\n\u001B[0;32m----> 1\u001B[0m sorted_index \u001B[38;5;241m=\u001B[39m \u001B[43mtorch\u001B[49m\u001B[38;5;241m.\u001B[39margsort(psi_dirac_x, dim \u001B[38;5;241m=\u001B[39m \u001B[38;5;241m0\u001B[39m)\n\u001B[1;32m      2\u001B[0m sorted_x \u001B[38;5;241m=\u001B[39m psi_dirac_x[sorted_index][:,\u001B[38;5;241m0\u001B[39m,\u001B[38;5;241m0\u001B[39m]\n\u001B[1;32m      3\u001B[0m sorted_psi \u001B[38;5;241m=\u001B[39m psi_dirac[sorted_index][:,\u001B[38;5;241m0\u001B[39m,\u001B[38;5;241m0\u001B[39m]\n",
      "\u001B[0;31mNameError\u001B[0m: name 'torch' is not defined"
     ]
    }
   ],
   "execution_count": 9
  },
  {
   "cell_type": "code",
   "metadata": {
    "id": "AahACbrJrV67",
    "ExecuteTime": {
     "end_time": "2024-10-23T12:01:30.366482Z",
     "start_time": "2024-10-23T12:01:30.355014Z"
    }
   },
   "source": [
    "#parametricSolutions2(tTest.cuda(), t0, xBC1).cpu().detach().numpy().shape\n",
    "#psi_0to10.detach().numpy()\n",
    "np.dot(parametricSolutions2(tTest.cuda(), t0, xBC1).cpu().detach().numpy().reshape(1,-1), psi_0to10.detach().numpy())"
   ],
   "outputs": [
    {
     "ename": "NameError",
     "evalue": "name 'np' is not defined",
     "output_type": "error",
     "traceback": [
      "\u001B[0;31m---------------------------------------------------------------------------\u001B[0m",
      "\u001B[0;31mNameError\u001B[0m                                 Traceback (most recent call last)",
      "Cell \u001B[0;32mIn[10], line 3\u001B[0m\n\u001B[1;32m      1\u001B[0m \u001B[38;5;66;03m#parametricSolutions2(tTest.cuda(), t0, xBC1).cpu().detach().numpy().shape\u001B[39;00m\n\u001B[1;32m      2\u001B[0m \u001B[38;5;66;03m#psi_0to10.detach().numpy()\u001B[39;00m\n\u001B[0;32m----> 3\u001B[0m \u001B[43mnp\u001B[49m\u001B[38;5;241m.\u001B[39mdot(parametricSolutions2(tTest\u001B[38;5;241m.\u001B[39mcuda(), t0, xBC1)\u001B[38;5;241m.\u001B[39mcpu()\u001B[38;5;241m.\u001B[39mdetach()\u001B[38;5;241m.\u001B[39mnumpy()\u001B[38;5;241m.\u001B[39mreshape(\u001B[38;5;241m1\u001B[39m,\u001B[38;5;241m-\u001B[39m\u001B[38;5;241m1\u001B[39m), psi_0to10\u001B[38;5;241m.\u001B[39mdetach()\u001B[38;5;241m.\u001B[39mnumpy())\n",
      "\u001B[0;31mNameError\u001B[0m: name 'np' is not defined"
     ]
    }
   ],
   "execution_count": 10
  },
  {
   "cell_type": "code",
   "metadata": {
    "id": "DtHP9ZH8v03w",
    "ExecuteTime": {
     "end_time": "2024-10-23T12:01:30.482249Z",
     "start_time": "2024-10-23T12:01:30.472371Z"
    }
   },
   "source": [
    "import pickle\n",
    "\n",
    "with open(imgdir+'fin_square_single_patience.pickle', 'wb') as handle:\n",
    "    pickle.dump(loss_hists1, handle)"
   ],
   "outputs": [
    {
     "ename": "NameError",
     "evalue": "name 'imgdir' is not defined",
     "output_type": "error",
     "traceback": [
      "\u001B[0;31m---------------------------------------------------------------------------\u001B[0m",
      "\u001B[0;31mNameError\u001B[0m                                 Traceback (most recent call last)",
      "Cell \u001B[0;32mIn[11], line 3\u001B[0m\n\u001B[1;32m      1\u001B[0m \u001B[38;5;28;01mimport\u001B[39;00m \u001B[38;5;21;01mpickle\u001B[39;00m\n\u001B[0;32m----> 3\u001B[0m \u001B[38;5;28;01mwith\u001B[39;00m \u001B[38;5;28mopen\u001B[39m(\u001B[43mimgdir\u001B[49m\u001B[38;5;241m+\u001B[39m\u001B[38;5;124m'\u001B[39m\u001B[38;5;124mfin_square_single_patience.pickle\u001B[39m\u001B[38;5;124m'\u001B[39m, \u001B[38;5;124m'\u001B[39m\u001B[38;5;124mwb\u001B[39m\u001B[38;5;124m'\u001B[39m) \u001B[38;5;28;01mas\u001B[39;00m handle:\n\u001B[1;32m      4\u001B[0m     pickle\u001B[38;5;241m.\u001B[39mdump(loss_hists1, handle)\n",
      "\u001B[0;31mNameError\u001B[0m: name 'imgdir' is not defined"
     ]
    }
   ],
   "execution_count": 11
  },
  {
   "cell_type": "markdown",
   "metadata": {
    "id": "XT8LvXgjjK-9"
   },
   "source": [
    "# Numerical Solutions"
   ]
  },
  {
   "cell_type": "code",
   "metadata": {
    "id": "Mn2TMXi5jLIo",
    "colab": {
     "base_uri": "https://localhost:8080/"
    },
    "executionInfo": {
     "status": "ok",
     "timestamp": 1640368796337,
     "user_tz": 480,
     "elapsed": 535,
     "user": {
      "displayName": "Henry Jin",
      "photoUrl": "https://lh3.googleusercontent.com/a-/AOh14GhYqxAUtwnIYoYilaHJs_IlNi06LeR23MknfmTs=s64",
      "userId": "11060528574976705743"
     }
    },
    "outputId": "ae292a88-c917-474b-834b-984b5824bdb1",
    "ExecuteTime": {
     "end_time": "2024-10-23T12:01:31.106568Z",
     "start_time": "2024-10-23T12:01:30.552366Z"
    }
   },
   "source": [
    "import numpy as np\n",
    "import matplotlib.pyplot as plt\n",
    "import scipy.linalg as scl\n",
    "import scipy.optimize as opt\n",
    "# Setup the input values\n",
    "hbar=1\n",
    "m=1\n",
    "\n",
    "for a in [1.,2.]:\n",
    "    z0 = 4*np.pi /2\n",
    "    V0 = 10 # (z0*hbar/a)**2 /m/2\n",
    "    z0 = a/hbar * np.sqrt(2*m*V0)\n",
    "    # V0 = 2*(np.pi*hbar/a)**2 /m/8 \n",
    "\n",
    "    epsilon = 0.0001 # Sufficiently small but not zero to avoid devide by zero issues.\n",
    "    # Setup the two equations that need to be solved. \n",
    "    def opt_fun1(z,z0):\n",
    "        return( np.tan(z) - np.sqrt((z0/z)**2 -1 ))\n",
    "    def opt_fun2(z,z0):\n",
    "        return( -1/np.tan(z) - np.sqrt((z0/z)**2 -1 ))\n",
    "\n",
    "    result = []\n",
    "    z = []\n",
    "    Ex = []\n",
    "    for i in range(2*int(z0/np.pi)+1):\n",
    "        if i*np.pi/2 < z0:\n",
    "            if (i%2 == 0):\n",
    "                result.append(opt.root_scalar(opt_fun1,z0,bracket=[np.pi*i/2+epsilon,min((i+1)*np.pi/2-epsilon,z0)]))\n",
    "            else:\n",
    "                result.append(opt.root_scalar(opt_fun2,z0,bracket=[np.pi*i/2+epsilon,min((i+1)*np.pi/2-epsilon,z0)]))\n",
    "            if not result[i].converged: \n",
    "                print(result[i])\n",
    "                z.append(0)\n",
    "                Ex.append(0)\n",
    "            else:\n",
    "                z.append(result[i].root)\n",
    "                Ex.append((z[i]*hbar/a)**2 /m/2 - V0)\n",
    "        else:\n",
    "            z.append(0)\n",
    "            Ex.append(0)\n",
    "    print(\"Potential strenght = {:7.3f}\".format(V0))\n",
    "    print(\"Widht of the well  = {:7.37}\".format(a))\n",
    "    print(\"\\n Binding energies are predicted to be:\")\n",
    "    for i in range(len(Ex)):\n",
    "        if Ex[i]<0:print(\" Ex[{:1d}] = {:6.3f}\".format(i,Ex[i]))\n",
    "    print()"
   ],
   "outputs": [
    {
     "name": "stdout",
     "output_type": "stream",
     "text": [
      "Potential strenght =  10.000\n",
      "Widht of the well  =     1.0\n",
      "\n",
      " Binding energies are predicted to be:\n",
      " Ex[0] = -9.180\n",
      " Ex[1] = -6.779\n",
      " Ex[2] = -3.054\n",
      "\n",
      "Potential strenght =  10.000\n",
      "Widht of the well  =     2.0\n",
      "\n",
      " Binding energies are predicted to be:\n",
      " Ex[0] = -9.751\n",
      " Ex[1] = -9.005\n",
      " Ex[2] = -7.773\n",
      " Ex[3] = -6.072\n",
      " Ex[4] = -3.941\n",
      "\n"
     ]
    }
   ],
   "execution_count": 12
  },
  {
   "cell_type": "code",
   "metadata": {
    "id": "mPHLFxZgjLP3",
    "colab": {
     "base_uri": "https://localhost:8080/",
     "height": 455
    },
    "executionInfo": {
     "status": "ok",
     "timestamp": 1640368895096,
     "user_tz": 480,
     "elapsed": 1459,
     "user": {
      "displayName": "Henry Jin",
      "photoUrl": "https://lh3.googleusercontent.com/a-/AOh14GhYqxAUtwnIYoYilaHJs_IlNi06LeR23MknfmTs=s64",
      "userId": "11060528574976705743"
     }
    },
    "outputId": "bf1c3ed3-03e8-4bbd-f442-511df5666674",
    "ExecuteTime": {
     "end_time": "2024-10-23T12:01:32.865498Z",
     "start_time": "2024-10-23T12:01:31.107868Z"
    }
   },
   "source": [
    "import numpy as np\n",
    "import matplotlib.pyplot as plt\n",
    "import scipy.linalg as scl\n",
    "hbar=1\n",
    "m=1\n",
    "N = 2048\n",
    "x_max = 8\n",
    "x_min = -x_max\n",
    "\n",
    "a=1.\n",
    "b_vals= np.linspace(0,10,11)*a/5 # 1*a\n",
    "E_store=[]\n",
    "Psi_store=[]\n",
    "\n",
    "##############\n",
    "b = 0.8\n",
    "if a+b > x_max/2:\n",
    "    print(\"Warning, the a+b is getting too close to the edge!\")\n",
    "x = np.linspace(x_min,x_max,N)\n",
    "# We want to store step size, this is the reliable way:\n",
    "h = x[1]-x[0] # Should be equal to 2*np.pi/(N-1)\n",
    "\n",
    "V0 = 20\n",
    "\n",
    "\n",
    "#\n",
    "#### CREATE THE POTENTIAL ####\n",
    "V=np.zeros(N)\n",
    "for i in range(N):\n",
    "    if x[i] > -1.7 and x[i] < 1.7:\n",
    "      V[i] = -V0\n",
    "\n",
    "    \n",
    "\n",
    "Mdd = 1./(h*h)*(np.diag(np.ones(N-1),-1) -2* np.diag(np.ones(N),0) + np.diag(np.ones(N-1),1))\n",
    "H = -(hbar*hbar)/(2.0*m)*Mdd + np.diag(V) \n",
    "E,psi = np.linalg.eigh(H) # This computes the eigen values and eigenvectors\n",
    "E_store.append(E)\n",
    "Psi_store.append(psi)\n",
    "\n",
    "#print(\"Binding Energy levels for b = {:5.3f} a: \".format(b/a))\n",
    "for i in range(len(E)):\n",
    "    if E[i]<0:\n",
    "        #if np.allclose(b,0): \n",
    "        #    print(\"E[{}] = {:7.4f}   Ex[{}] = {:7.4f}\".format(i,E[i],i,Ex[i]))\n",
    "        #else:\n",
    "            print(\"E[{}] = {:7.4f} \".format(i,20+E[i]))\n",
    "            \n",
    "fig = plt.figure(figsize=(10,5))\n",
    "ax1 = fig.add_subplot(111)\n",
    "ax1.set_xlabel(\"x\")\n",
    "ax1.set_ylabel(\"$\\psi_n(x)$\")\n",
    "for i in range(2):\n",
    "#    if E[i]<0:                 # Only plot the bound states. The scattering states are not reliably computed.\n",
    "        if psi[:,i][N//2+10] < 0:   # Flip the wavefunctions if it is negative at large x, so plots are more consistent.\n",
    "            ax1.plot(x,-psi[:,i]/np.sqrt(h),label=\"$E_{}$={:>8.3f}\".format(i,20+E[i]))\n",
    "        else:\n",
    "            ax1.plot(x,psi[:,i]/np.sqrt(h),label=\"$E_{}$={:>8.3f}\".format(i,20+E[i]))\n",
    "\n",
    "            #plt.title(\"Solutions to double finite well, b = {:4.2f} a\".format(b/a))\n",
    "\n",
    "# Plot the potential as well, on a separate y axis\n",
    "ax2 = ax1.twinx()\n",
    "ax2.set_ylabel(\"Energy\")                            # To get separate energy scale\n",
    "ax2.plot(x,V,color=\"Gray\",label=\"V(x)\")\n",
    "ax1.set_xlim((-7,7))\n",
    "legendh1,labels1 = ax1.get_legend_handles_labels()  # For putting all legends in one box.\n",
    "legendh2,labels2 = ax2.get_legend_handles_labels()\n",
    "plt.legend(legendh1+legendh2,labels1+labels2,loc=\"lower right\")\n",
    "#plt.savefig(\"Double_Finite_Square_Well_WaveFunctions_b_{}.pdf\".format(10*int(b/a)))\n",
    "plt.show()"
   ],
   "outputs": [
    {
     "name": "stdout",
     "output_type": "stream",
     "text": [
      "E[0] =  0.3586 \n",
      "E[1] =  1.4322 \n",
      "E[2] =  3.2132 \n",
      "E[3] =  5.6873 \n",
      "E[4] =  8.8276 \n",
      "E[5] = 12.5811 \n",
      "E[6] = 16.8099 \n"
     ]
    },
    {
     "data": {
      "text/plain": [
       "<Figure size 1000x500 with 2 Axes>"
      ],
      "image/png": "[encoded data removed]"
     },
     "metadata": {},
     "output_type": "display_data"
    }
   ],
   "execution_count": 13
  },
  {
   "cell_type": "code",
   "metadata": {
    "id": "nu6QK-8MmUqN",
    "ExecuteTime": {
     "end_time": "2024-10-23T12:01:32.903228Z",
     "start_time": "2024-10-23T12:01:32.866522Z"
    }
   },
   "source": [
    "nTest = n_train; tTest = torch.linspace(t0-.1,tf+.1,nTest)\n",
    "tTest = tTest.reshape(-1,1);\n",
    "tTest.requires_grad=True\n",
    "t_net = tTest.detach().numpy()\n",
    "psi1 =parametricSolutions(tTest,model1,t0,xBC1) \n",
    "psi1=psi1.data.numpy(); "
   ],
   "outputs": [
    {
     "ename": "NameError",
     "evalue": "name 'n_train' is not defined",
     "output_type": "error",
     "traceback": [
      "\u001B[0;31m---------------------------------------------------------------------------\u001B[0m",
      "\u001B[0;31mNameError\u001B[0m                                 Traceback (most recent call last)",
      "Cell \u001B[0;32mIn[14], line 1\u001B[0m\n\u001B[0;32m----> 1\u001B[0m nTest \u001B[38;5;241m=\u001B[39m \u001B[43mn_train\u001B[49m; tTest \u001B[38;5;241m=\u001B[39m torch\u001B[38;5;241m.\u001B[39mlinspace(t0\u001B[38;5;241m-\u001B[39m\u001B[38;5;241m.1\u001B[39m,tf\u001B[38;5;241m+\u001B[39m\u001B[38;5;241m.1\u001B[39m,nTest)\n\u001B[1;32m      2\u001B[0m tTest \u001B[38;5;241m=\u001B[39m tTest\u001B[38;5;241m.\u001B[39mreshape(\u001B[38;5;241m-\u001B[39m\u001B[38;5;241m1\u001B[39m,\u001B[38;5;241m1\u001B[39m);\n\u001B[1;32m      3\u001B[0m tTest\u001B[38;5;241m.\u001B[39mrequires_grad\u001B[38;5;241m=\u001B[39m\u001B[38;5;28;01mTrue\u001B[39;00m\n",
      "\u001B[0;31mNameError\u001B[0m: name 'n_train' is not defined"
     ]
    }
   ],
   "execution_count": 14
  },
  {
   "cell_type": "code",
   "metadata": {
    "id": "QDeLSJ0cdmtN",
    "ExecuteTime": {
     "end_time": "2024-10-23T12:01:32.904413Z",
     "start_time": "2024-10-23T12:01:32.904314Z"
    }
   },
   "source": [
    "plt.plot(x[256:-256], psi[:,0][256:-256])\n",
    "plt.plot(x[256:-256], 1*psi1*np.max(psi[:,0][256:-256])/np.max(1*psi1))\n",
    "print('MSE in eigenfunction:')\n",
    "print(np.mean((psi[:,0][256:-256] - 1*psi1*np.max(psi[:,0][256:-256])/np.max(1*psi1))**2))\n",
    "\n",
    "print('Squared Error in Eigenvalue:')\n",
    "print((loss_hists1[10][1][0](tTest.float().cuda())[1][0].cpu().data.numpy()[0]-10-E[0])**2)"
   ],
   "outputs": [],
   "execution_count": null
  },
  {
   "cell_type": "code",
   "metadata": {
    "id": "z1eKEsntd2F8",
    "ExecuteTime": {
     "end_time": "2024-10-23T12:01:32.905440Z",
     "start_time": "2024-10-23T12:01:32.905286Z"
    }
   },
   "source": [
    ""
   ],
   "outputs": [],
   "execution_count": null
  }
 ],
 "metadata": {
  "accelerator": "GPU",
  "colab": {
   "collapsed_sections": [],
   "machine_shape": "hm",
   "name": "Patience_Working_Orthogonal_Single_Finite_Square_main_Sep21.ipynb",
   "provenance": []
  },
  "kernelspec": {
   "display_name": "Python 3 (ipykernel)",
   "name": "python3",
   "language": "python"
  }
 },
 "nbformat": 4,
 "nbformat_minor": 0
}
